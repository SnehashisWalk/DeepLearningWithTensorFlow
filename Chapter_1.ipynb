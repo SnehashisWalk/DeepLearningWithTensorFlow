{
  "nbformat": 4,
  "nbformat_minor": 0,
  "metadata": {
    "colab": {
      "provenance": []
    },
    "kernelspec": {
      "name": "python3",
      "display_name": "Python 3"
    },
    "language_info": {
      "name": "python"
    }
  },
  "cells": [
    {
      "cell_type": "code",
      "execution_count": null,
      "metadata": {
        "id": "zwgI2Ovyp46K"
      },
      "outputs": [],
      "source": [
        "import tensorflow as tf\n",
        "from tensorflow import keras"
      ]
    },
    {
      "cell_type": "code",
      "source": [
        "NB_CLASSES = 10\n",
        "RESHAPED = 784"
      ],
      "metadata": {
        "id": "VTgXtWoMqB3b"
      },
      "execution_count": null,
      "outputs": []
    },
    {
      "cell_type": "code",
      "source": [
        "model = tf.keras.models.Sequential()"
      ],
      "metadata": {
        "id": "IoAveGP4qFXV"
      },
      "execution_count": null,
      "outputs": []
    },
    {
      "cell_type": "code",
      "source": [
        "model.add(\n",
        "    keras.layers.Dense(NB_CLASSES,\n",
        "                       input_shape=(RESHAPED,),\n",
        "                       kernel_initializer='zeros',\n",
        "                       name='dense_layer',\n",
        "                       activation='softmax')\n",
        ")"
      ],
      "metadata": {
        "id": "_WlIDuFuqJG2"
      },
      "execution_count": null,
      "outputs": []
    },
    {
      "cell_type": "code",
      "source": [
        "model.summary()"
      ],
      "metadata": {
        "colab": {
          "base_uri": "https://localhost:8080/"
        },
        "id": "6yhfK2MsqiLG",
        "outputId": "a4b769a2-933c-4f09-bb6a-7ae9583ab0d1"
      },
      "execution_count": null,
      "outputs": [
        {
          "output_type": "stream",
          "name": "stdout",
          "text": [
            "Model: \"sequential\"\n",
            "_________________________________________________________________\n",
            " Layer (type)                Output Shape              Param #   \n",
            "=================================================================\n",
            " dense_layer (Dense)         (None, 10)                7850      \n",
            "                                                                 \n",
            "=================================================================\n",
            "Total params: 7850 (30.66 KB)\n",
            "Trainable params: 7850 (30.66 KB)\n",
            "Non-trainable params: 0 (0.00 Byte)\n",
            "_________________________________________________________________\n"
          ]
        }
      ]
    },
    {
      "cell_type": "code",
      "source": [
        "#MNIST Handwritten example\n",
        "import numpy as np"
      ],
      "metadata": {
        "id": "Enp6CoEYqiyc"
      },
      "execution_count": null,
      "outputs": []
    },
    {
      "cell_type": "code",
      "source": [
        "EPOCHS = 200\n",
        "BATCH_SIZE = 128\n",
        "VERBOSE = 1\n",
        "NB_CLASSES = 10 # number of outputs = number of digits (0-9)\n",
        "N_HIDDEN = 128\n",
        "VALIDATION_SPLIT = 0.2"
      ],
      "metadata": {
        "id": "UQCLDHqdvftO"
      },
      "execution_count": null,
      "outputs": []
    },
    {
      "cell_type": "code",
      "source": [
        "#Loading MNIST dataset\n",
        "mnist = keras.datasets.mnist"
      ],
      "metadata": {
        "id": "lgulHHS3vwnv"
      },
      "execution_count": null,
      "outputs": []
    },
    {
      "cell_type": "code",
      "source": [
        "(X_train, y_train), (X_test, y_test) = mnist.load_data()"
      ],
      "metadata": {
        "colab": {
          "base_uri": "https://localhost:8080/"
        },
        "id": "lmZQ34AKv1T5",
        "outputId": "dc3e3bed-5ef8-4fba-f3ca-6d8a65655afe"
      },
      "execution_count": null,
      "outputs": [
        {
          "output_type": "stream",
          "name": "stdout",
          "text": [
            "Downloading data from https://storage.googleapis.com/tensorflow/tf-keras-datasets/mnist.npz\n",
            "11490434/11490434 [==============================] - 0s 0us/step\n"
          ]
        }
      ]
    },
    {
      "cell_type": "code",
      "source": [
        "X_train.shape"
      ],
      "metadata": {
        "colab": {
          "base_uri": "https://localhost:8080/"
        },
        "id": "2yFFHq1bv1wx",
        "outputId": "af536b90-a65f-4c6c-d99c-30b3bc351dc9"
      },
      "execution_count": null,
      "outputs": [
        {
          "output_type": "execute_result",
          "data": {
            "text/plain": [
              "(60000, 28, 28)"
            ]
          },
          "metadata": {},
          "execution_count": 13
        }
      ]
    },
    {
      "cell_type": "code",
      "source": [
        "X_test.shape"
      ],
      "metadata": {
        "colab": {
          "base_uri": "https://localhost:8080/"
        },
        "id": "IJ5Y4dx-wuV6",
        "outputId": "f8587d6b-4cfb-479a-8a14-e20684f277c7"
      },
      "execution_count": null,
      "outputs": [
        {
          "output_type": "execute_result",
          "data": {
            "text/plain": [
              "(10000, 28, 28)"
            ]
          },
          "metadata": {},
          "execution_count": 17
        }
      ]
    },
    {
      "cell_type": "code",
      "source": [
        "# reshape X_train to 60000, 784\n",
        "RESHAPED = 784"
      ],
      "metadata": {
        "id": "jvl4ny1uwNXk"
      },
      "execution_count": null,
      "outputs": []
    },
    {
      "cell_type": "code",
      "source": [
        "X_train = X_train.reshape(60000, RESHAPED)\n",
        "X_test = X_test.reshape(10000, RESHAPED)\n",
        "X_train = X_train.astype('float32')\n",
        "X_test = X_test.astype('float32')"
      ],
      "metadata": {
        "id": "fcwp5EgVwOxK"
      },
      "execution_count": null,
      "outputs": []
    },
    {
      "cell_type": "code",
      "source": [
        "X_train.shape, X_test.shape"
      ],
      "metadata": {
        "colab": {
          "base_uri": "https://localhost:8080/"
        },
        "id": "tOVWgnijwq2U",
        "outputId": "95f123b4-8a47-49df-a9eb-7964d2e215d2"
      },
      "execution_count": null,
      "outputs": [
        {
          "output_type": "execute_result",
          "data": {
            "text/plain": [
              "((60000, 784), (10000, 784))"
            ]
          },
          "metadata": {},
          "execution_count": 21
        }
      ]
    },
    {
      "cell_type": "code",
      "source": [
        "len(X_train[0])"
      ],
      "metadata": {
        "colab": {
          "base_uri": "https://localhost:8080/"
        },
        "id": "uFpTCfO2wzcq",
        "outputId": "a709f3b5-2851-4414-b5d8-daeba03acd6c"
      },
      "execution_count": null,
      "outputs": [
        {
          "output_type": "execute_result",
          "data": {
            "text/plain": [
              "784"
            ]
          },
          "metadata": {},
          "execution_count": 23
        }
      ]
    },
    {
      "cell_type": "code",
      "source": [
        "# Normalize the inputs to be within in [0,1]\n",
        "X_train /= 255\n",
        "X_test /= 255\n",
        "\n",
        "print(X_train.shape[0], 'train samples')\n",
        "print(X_test.shape[0], 'test samples')"
      ],
      "metadata": {
        "colab": {
          "base_uri": "https://localhost:8080/"
        },
        "id": "OBEhkFe1w8N6",
        "outputId": "5bb5fe9e-88d6-447a-9358-199e028a6781"
      },
      "execution_count": null,
      "outputs": [
        {
          "output_type": "stream",
          "name": "stdout",
          "text": [
            "60000 train samples\n",
            "10000 test samples\n"
          ]
        }
      ]
    },
    {
      "cell_type": "code",
      "source": [
        "# One hot representation of the labels\n",
        "y_train = tf.keras.utils.to_categorical(y_train, NB_CLASSES)\n",
        "y_test = tf.keras.utils.to_categorical(y_test, NB_CLASSES)"
      ],
      "metadata": {
        "id": "O75ByRDZxdoJ"
      },
      "execution_count": null,
      "outputs": []
    },
    {
      "cell_type": "code",
      "source": [
        "y_train[0]"
      ],
      "metadata": {
        "colab": {
          "base_uri": "https://localhost:8080/"
        },
        "id": "VzUzgwgHxf7k",
        "outputId": "97a3bb56-6915-4be6-ab5b-dd547b9eb15a"
      },
      "execution_count": null,
      "outputs": [
        {
          "output_type": "execute_result",
          "data": {
            "text/plain": [
              "array([0., 0., 0., 0., 0., 1., 0., 0., 0., 0.], dtype=float32)"
            ]
          },
          "metadata": {},
          "execution_count": 31
        }
      ]
    },
    {
      "cell_type": "code",
      "source": [
        "#Model\n",
        "model = tf.keras.models.Sequential()\n",
        "model.add(\n",
        "    keras.layers.Dense(\n",
        "        NB_CLASSES,\n",
        "        input_shape=(RESHAPED, ),\n",
        "        name='dense_layer',\n",
        "        activation='softmax'\n",
        "    )\n",
        ")"
      ],
      "metadata": {
        "id": "DHsd-UJFx3DK"
      },
      "execution_count": null,
      "outputs": []
    },
    {
      "cell_type": "code",
      "source": [
        "model.summary()"
      ],
      "metadata": {
        "colab": {
          "base_uri": "https://localhost:8080/"
        },
        "id": "UKVHcjaHytqv",
        "outputId": "ec0051a5-b32f-4634-8323-62bad8064658"
      },
      "execution_count": null,
      "outputs": [
        {
          "output_type": "stream",
          "name": "stdout",
          "text": [
            "Model: \"sequential_1\"\n",
            "_________________________________________________________________\n",
            " Layer (type)                Output Shape              Param #   \n",
            "=================================================================\n",
            " dense_layer (Dense)         (None, 10)                7850      \n",
            "                                                                 \n",
            "=================================================================\n",
            "Total params: 7850 (30.66 KB)\n",
            "Trainable params: 7850 (30.66 KB)\n",
            "Non-trainable params: 0 (0.00 Byte)\n",
            "_________________________________________________________________\n"
          ]
        }
      ]
    },
    {
      "cell_type": "code",
      "source": [
        "#Compliling the model\n",
        "model.compile(\n",
        "    optimizer='SGD',\n",
        "    loss='categorical_crossentropy',\n",
        "    metrics=['accuracy']\n",
        ")"
      ],
      "metadata": {
        "id": "SII1POEXyuQp"
      },
      "execution_count": null,
      "outputs": []
    },
    {
      "cell_type": "code",
      "source": [
        "#Training the model\n",
        "model.fit(\n",
        "    X_train, y_train,\n",
        "    batch_size=BATCH_SIZE,\n",
        "    epochs=EPOCHS,\n",
        "    verbose=VERBOSE,\n",
        "    validation_split=VALIDATION_SPLIT\n",
        ")"
      ],
      "metadata": {
        "colab": {
          "base_uri": "https://localhost:8080/"
        },
        "id": "DrG-ywkl2O0P",
        "outputId": "d49d6b1b-54ab-41fa-ee1e-bfa2e12f2de4"
      },
      "execution_count": null,
      "outputs": [
        {
          "output_type": "stream",
          "name": "stdout",
          "text": [
            "Epoch 1/200\n",
            "375/375 [==============================] - 1s 2ms/step - loss: 1.4149 - accuracy: 0.6521 - val_loss: 0.9042 - val_accuracy: 0.8285\n",
            "Epoch 2/200\n",
            "375/375 [==============================] - 1s 2ms/step - loss: 0.7997 - accuracy: 0.8280 - val_loss: 0.6589 - val_accuracy: 0.8622\n",
            "Epoch 3/200\n",
            "375/375 [==============================] - 1s 2ms/step - loss: 0.6462 - accuracy: 0.8489 - val_loss: 0.5623 - val_accuracy: 0.8718\n",
            "Epoch 4/200\n",
            "375/375 [==============================] - 1s 2ms/step - loss: 0.5728 - accuracy: 0.8604 - val_loss: 0.5088 - val_accuracy: 0.8797\n",
            "Epoch 5/200\n",
            "375/375 [==============================] - 1s 2ms/step - loss: 0.5282 - accuracy: 0.8676 - val_loss: 0.4747 - val_accuracy: 0.8829\n",
            "Epoch 6/200\n",
            "375/375 [==============================] - 1s 2ms/step - loss: 0.4977 - accuracy: 0.8729 - val_loss: 0.4504 - val_accuracy: 0.8858\n",
            "Epoch 7/200\n",
            "375/375 [==============================] - 1s 2ms/step - loss: 0.4751 - accuracy: 0.8774 - val_loss: 0.4322 - val_accuracy: 0.8896\n",
            "Epoch 8/200\n",
            "375/375 [==============================] - 1s 2ms/step - loss: 0.4576 - accuracy: 0.8804 - val_loss: 0.4180 - val_accuracy: 0.8925\n",
            "Epoch 9/200\n",
            "375/375 [==============================] - 1s 2ms/step - loss: 0.4435 - accuracy: 0.8832 - val_loss: 0.4062 - val_accuracy: 0.8950\n",
            "Epoch 10/200\n",
            "375/375 [==============================] - 1s 2ms/step - loss: 0.4318 - accuracy: 0.8857 - val_loss: 0.3967 - val_accuracy: 0.8966\n",
            "Epoch 11/200\n",
            "375/375 [==============================] - 1s 2ms/step - loss: 0.4220 - accuracy: 0.8879 - val_loss: 0.3885 - val_accuracy: 0.8984\n",
            "Epoch 12/200\n",
            "375/375 [==============================] - 1s 2ms/step - loss: 0.4135 - accuracy: 0.8890 - val_loss: 0.3816 - val_accuracy: 0.8996\n",
            "Epoch 13/200\n",
            "375/375 [==============================] - 1s 2ms/step - loss: 0.4061 - accuracy: 0.8908 - val_loss: 0.3755 - val_accuracy: 0.9002\n",
            "Epoch 14/200\n",
            "375/375 [==============================] - 1s 2ms/step - loss: 0.3995 - accuracy: 0.8924 - val_loss: 0.3700 - val_accuracy: 0.9018\n",
            "Epoch 15/200\n",
            "375/375 [==============================] - 1s 2ms/step - loss: 0.3938 - accuracy: 0.8934 - val_loss: 0.3654 - val_accuracy: 0.9023\n",
            "Epoch 16/200\n",
            "375/375 [==============================] - 1s 2ms/step - loss: 0.3885 - accuracy: 0.8949 - val_loss: 0.3610 - val_accuracy: 0.9045\n",
            "Epoch 17/200\n",
            "375/375 [==============================] - 1s 2ms/step - loss: 0.3838 - accuracy: 0.8954 - val_loss: 0.3571 - val_accuracy: 0.9053\n",
            "Epoch 18/200\n",
            "375/375 [==============================] - 1s 2ms/step - loss: 0.3795 - accuracy: 0.8961 - val_loss: 0.3535 - val_accuracy: 0.9062\n",
            "Epoch 19/200\n",
            "375/375 [==============================] - 1s 2ms/step - loss: 0.3756 - accuracy: 0.8970 - val_loss: 0.3502 - val_accuracy: 0.9067\n",
            "Epoch 20/200\n",
            "375/375 [==============================] - 1s 2ms/step - loss: 0.3719 - accuracy: 0.8978 - val_loss: 0.3473 - val_accuracy: 0.9068\n",
            "Epoch 21/200\n",
            "375/375 [==============================] - 1s 2ms/step - loss: 0.3685 - accuracy: 0.8989 - val_loss: 0.3445 - val_accuracy: 0.9077\n",
            "Epoch 22/200\n",
            "375/375 [==============================] - 1s 2ms/step - loss: 0.3654 - accuracy: 0.8994 - val_loss: 0.3420 - val_accuracy: 0.9084\n",
            "Epoch 23/200\n",
            "375/375 [==============================] - 1s 2ms/step - loss: 0.3625 - accuracy: 0.9002 - val_loss: 0.3398 - val_accuracy: 0.9090\n",
            "Epoch 24/200\n",
            "375/375 [==============================] - 1s 2ms/step - loss: 0.3598 - accuracy: 0.9005 - val_loss: 0.3374 - val_accuracy: 0.9097\n",
            "Epoch 25/200\n",
            "375/375 [==============================] - 1s 2ms/step - loss: 0.3573 - accuracy: 0.9015 - val_loss: 0.3353 - val_accuracy: 0.9097\n",
            "Epoch 26/200\n",
            "375/375 [==============================] - 1s 2ms/step - loss: 0.3548 - accuracy: 0.9022 - val_loss: 0.3335 - val_accuracy: 0.9099\n",
            "Epoch 27/200\n",
            "375/375 [==============================] - 1s 2ms/step - loss: 0.3526 - accuracy: 0.9025 - val_loss: 0.3316 - val_accuracy: 0.9107\n",
            "Epoch 28/200\n",
            "375/375 [==============================] - 1s 2ms/step - loss: 0.3504 - accuracy: 0.9033 - val_loss: 0.3299 - val_accuracy: 0.9097\n",
            "Epoch 29/200\n",
            "375/375 [==============================] - 1s 2ms/step - loss: 0.3485 - accuracy: 0.9036 - val_loss: 0.3282 - val_accuracy: 0.9107\n",
            "Epoch 30/200\n",
            "375/375 [==============================] - 1s 2ms/step - loss: 0.3465 - accuracy: 0.9043 - val_loss: 0.3266 - val_accuracy: 0.9112\n",
            "Epoch 31/200\n",
            "375/375 [==============================] - 1s 2ms/step - loss: 0.3447 - accuracy: 0.9047 - val_loss: 0.3253 - val_accuracy: 0.9115\n",
            "Epoch 32/200\n",
            "375/375 [==============================] - 1s 2ms/step - loss: 0.3430 - accuracy: 0.9049 - val_loss: 0.3238 - val_accuracy: 0.9115\n",
            "Epoch 33/200\n",
            "375/375 [==============================] - 1s 2ms/step - loss: 0.3413 - accuracy: 0.9056 - val_loss: 0.3225 - val_accuracy: 0.9116\n",
            "Epoch 34/200\n",
            "375/375 [==============================] - 1s 2ms/step - loss: 0.3397 - accuracy: 0.9057 - val_loss: 0.3212 - val_accuracy: 0.9119\n",
            "Epoch 35/200\n",
            "375/375 [==============================] - 1s 2ms/step - loss: 0.3381 - accuracy: 0.9059 - val_loss: 0.3201 - val_accuracy: 0.9123\n",
            "Epoch 36/200\n",
            "375/375 [==============================] - 1s 2ms/step - loss: 0.3368 - accuracy: 0.9065 - val_loss: 0.3188 - val_accuracy: 0.9128\n",
            "Epoch 37/200\n",
            "375/375 [==============================] - 1s 2ms/step - loss: 0.3354 - accuracy: 0.9067 - val_loss: 0.3178 - val_accuracy: 0.9128\n",
            "Epoch 38/200\n",
            "375/375 [==============================] - 1s 2ms/step - loss: 0.3340 - accuracy: 0.9072 - val_loss: 0.3167 - val_accuracy: 0.9129\n",
            "Epoch 39/200\n",
            "375/375 [==============================] - 1s 2ms/step - loss: 0.3327 - accuracy: 0.9075 - val_loss: 0.3158 - val_accuracy: 0.9134\n",
            "Epoch 40/200\n",
            "375/375 [==============================] - 1s 2ms/step - loss: 0.3315 - accuracy: 0.9081 - val_loss: 0.3147 - val_accuracy: 0.9137\n",
            "Epoch 41/200\n",
            "375/375 [==============================] - 1s 3ms/step - loss: 0.3303 - accuracy: 0.9082 - val_loss: 0.3138 - val_accuracy: 0.9137\n",
            "Epoch 42/200\n",
            "375/375 [==============================] - 1s 2ms/step - loss: 0.3292 - accuracy: 0.9086 - val_loss: 0.3129 - val_accuracy: 0.9138\n",
            "Epoch 43/200\n",
            "375/375 [==============================] - 1s 2ms/step - loss: 0.3280 - accuracy: 0.9089 - val_loss: 0.3120 - val_accuracy: 0.9143\n",
            "Epoch 44/200\n",
            "375/375 [==============================] - 1s 2ms/step - loss: 0.3270 - accuracy: 0.9094 - val_loss: 0.3111 - val_accuracy: 0.9140\n",
            "Epoch 45/200\n",
            "375/375 [==============================] - 1s 2ms/step - loss: 0.3259 - accuracy: 0.9095 - val_loss: 0.3103 - val_accuracy: 0.9140\n",
            "Epoch 46/200\n",
            "375/375 [==============================] - 1s 2ms/step - loss: 0.3249 - accuracy: 0.9098 - val_loss: 0.3095 - val_accuracy: 0.9145\n",
            "Epoch 47/200\n",
            "375/375 [==============================] - 1s 2ms/step - loss: 0.3240 - accuracy: 0.9103 - val_loss: 0.3089 - val_accuracy: 0.9149\n",
            "Epoch 48/200\n",
            "375/375 [==============================] - 1s 2ms/step - loss: 0.3231 - accuracy: 0.9105 - val_loss: 0.3081 - val_accuracy: 0.9149\n",
            "Epoch 49/200\n",
            "375/375 [==============================] - 1s 2ms/step - loss: 0.3221 - accuracy: 0.9106 - val_loss: 0.3074 - val_accuracy: 0.9149\n",
            "Epoch 50/200\n",
            "375/375 [==============================] - 1s 2ms/step - loss: 0.3213 - accuracy: 0.9110 - val_loss: 0.3066 - val_accuracy: 0.9156\n",
            "Epoch 51/200\n",
            "375/375 [==============================] - 1s 2ms/step - loss: 0.3203 - accuracy: 0.9112 - val_loss: 0.3060 - val_accuracy: 0.9153\n",
            "Epoch 52/200\n",
            "375/375 [==============================] - 1s 2ms/step - loss: 0.3195 - accuracy: 0.9113 - val_loss: 0.3053 - val_accuracy: 0.9156\n",
            "Epoch 53/200\n",
            "375/375 [==============================] - 1s 2ms/step - loss: 0.3187 - accuracy: 0.9117 - val_loss: 0.3047 - val_accuracy: 0.9158\n",
            "Epoch 54/200\n",
            "375/375 [==============================] - 1s 2ms/step - loss: 0.3180 - accuracy: 0.9120 - val_loss: 0.3041 - val_accuracy: 0.9162\n",
            "Epoch 55/200\n",
            "375/375 [==============================] - 1s 2ms/step - loss: 0.3172 - accuracy: 0.9121 - val_loss: 0.3035 - val_accuracy: 0.9158\n",
            "Epoch 56/200\n",
            "375/375 [==============================] - 1s 2ms/step - loss: 0.3164 - accuracy: 0.9124 - val_loss: 0.3029 - val_accuracy: 0.9158\n",
            "Epoch 57/200\n",
            "375/375 [==============================] - 1s 2ms/step - loss: 0.3157 - accuracy: 0.9127 - val_loss: 0.3025 - val_accuracy: 0.9158\n",
            "Epoch 58/200\n",
            "375/375 [==============================] - 1s 2ms/step - loss: 0.3150 - accuracy: 0.9125 - val_loss: 0.3018 - val_accuracy: 0.9160\n",
            "Epoch 59/200\n",
            "375/375 [==============================] - 1s 2ms/step - loss: 0.3143 - accuracy: 0.9127 - val_loss: 0.3013 - val_accuracy: 0.9158\n",
            "Epoch 60/200\n",
            "375/375 [==============================] - 1s 2ms/step - loss: 0.3136 - accuracy: 0.9131 - val_loss: 0.3008 - val_accuracy: 0.9160\n",
            "Epoch 61/200\n",
            "375/375 [==============================] - 1s 2ms/step - loss: 0.3130 - accuracy: 0.9133 - val_loss: 0.3003 - val_accuracy: 0.9163\n",
            "Epoch 62/200\n",
            "375/375 [==============================] - 1s 2ms/step - loss: 0.3123 - accuracy: 0.9137 - val_loss: 0.2998 - val_accuracy: 0.9165\n",
            "Epoch 63/200\n",
            "375/375 [==============================] - 1s 2ms/step - loss: 0.3117 - accuracy: 0.9138 - val_loss: 0.2993 - val_accuracy: 0.9164\n",
            "Epoch 64/200\n",
            "375/375 [==============================] - 1s 2ms/step - loss: 0.3111 - accuracy: 0.9141 - val_loss: 0.2989 - val_accuracy: 0.9169\n",
            "Epoch 65/200\n",
            "375/375 [==============================] - 1s 2ms/step - loss: 0.3105 - accuracy: 0.9144 - val_loss: 0.2984 - val_accuracy: 0.9168\n",
            "Epoch 66/200\n",
            "375/375 [==============================] - 1s 2ms/step - loss: 0.3099 - accuracy: 0.9139 - val_loss: 0.2980 - val_accuracy: 0.9162\n",
            "Epoch 67/200\n",
            "375/375 [==============================] - 1s 2ms/step - loss: 0.3093 - accuracy: 0.9145 - val_loss: 0.2976 - val_accuracy: 0.9163\n",
            "Epoch 68/200\n",
            "375/375 [==============================] - 1s 2ms/step - loss: 0.3088 - accuracy: 0.9145 - val_loss: 0.2972 - val_accuracy: 0.9168\n",
            "Epoch 69/200\n",
            "375/375 [==============================] - 1s 2ms/step - loss: 0.3082 - accuracy: 0.9148 - val_loss: 0.2967 - val_accuracy: 0.9165\n",
            "Epoch 70/200\n",
            "375/375 [==============================] - 1s 2ms/step - loss: 0.3077 - accuracy: 0.9148 - val_loss: 0.2963 - val_accuracy: 0.9170\n",
            "Epoch 71/200\n",
            "375/375 [==============================] - 1s 2ms/step - loss: 0.3072 - accuracy: 0.9147 - val_loss: 0.2959 - val_accuracy: 0.9168\n",
            "Epoch 72/200\n",
            "375/375 [==============================] - 1s 3ms/step - loss: 0.3067 - accuracy: 0.9154 - val_loss: 0.2955 - val_accuracy: 0.9166\n",
            "Epoch 73/200\n",
            "375/375 [==============================] - 1s 3ms/step - loss: 0.3061 - accuracy: 0.9149 - val_loss: 0.2952 - val_accuracy: 0.9171\n",
            "Epoch 74/200\n",
            "375/375 [==============================] - 1s 2ms/step - loss: 0.3057 - accuracy: 0.9154 - val_loss: 0.2949 - val_accuracy: 0.9168\n",
            "Epoch 75/200\n",
            "375/375 [==============================] - 1s 2ms/step - loss: 0.3052 - accuracy: 0.9154 - val_loss: 0.2945 - val_accuracy: 0.9173\n",
            "Epoch 76/200\n",
            "375/375 [==============================] - 1s 2ms/step - loss: 0.3047 - accuracy: 0.9158 - val_loss: 0.2941 - val_accuracy: 0.9173\n",
            "Epoch 77/200\n",
            "375/375 [==============================] - 1s 2ms/step - loss: 0.3042 - accuracy: 0.9158 - val_loss: 0.2938 - val_accuracy: 0.9175\n",
            "Epoch 78/200\n",
            "375/375 [==============================] - 1s 2ms/step - loss: 0.3038 - accuracy: 0.9159 - val_loss: 0.2935 - val_accuracy: 0.9178\n",
            "Epoch 79/200\n",
            "375/375 [==============================] - 1s 2ms/step - loss: 0.3033 - accuracy: 0.9158 - val_loss: 0.2931 - val_accuracy: 0.9175\n",
            "Epoch 80/200\n",
            "375/375 [==============================] - 1s 2ms/step - loss: 0.3029 - accuracy: 0.9162 - val_loss: 0.2928 - val_accuracy: 0.9179\n",
            "Epoch 81/200\n",
            "375/375 [==============================] - 1s 2ms/step - loss: 0.3024 - accuracy: 0.9160 - val_loss: 0.2925 - val_accuracy: 0.9177\n",
            "Epoch 82/200\n",
            "375/375 [==============================] - 1s 2ms/step - loss: 0.3020 - accuracy: 0.9163 - val_loss: 0.2921 - val_accuracy: 0.9179\n",
            "Epoch 83/200\n",
            "375/375 [==============================] - 1s 2ms/step - loss: 0.3016 - accuracy: 0.9165 - val_loss: 0.2919 - val_accuracy: 0.9177\n",
            "Epoch 84/200\n",
            "375/375 [==============================] - 1s 2ms/step - loss: 0.3012 - accuracy: 0.9164 - val_loss: 0.2917 - val_accuracy: 0.9176\n",
            "Epoch 85/200\n",
            "375/375 [==============================] - 1s 2ms/step - loss: 0.3008 - accuracy: 0.9165 - val_loss: 0.2912 - val_accuracy: 0.9177\n",
            "Epoch 86/200\n",
            "375/375 [==============================] - 1s 2ms/step - loss: 0.3004 - accuracy: 0.9166 - val_loss: 0.2910 - val_accuracy: 0.9181\n",
            "Epoch 87/200\n",
            "375/375 [==============================] - 1s 2ms/step - loss: 0.3000 - accuracy: 0.9169 - val_loss: 0.2908 - val_accuracy: 0.9181\n",
            "Epoch 88/200\n",
            "375/375 [==============================] - 1s 2ms/step - loss: 0.2996 - accuracy: 0.9168 - val_loss: 0.2904 - val_accuracy: 0.9183\n",
            "Epoch 89/200\n",
            "375/375 [==============================] - 1s 2ms/step - loss: 0.2992 - accuracy: 0.9169 - val_loss: 0.2902 - val_accuracy: 0.9180\n",
            "Epoch 90/200\n",
            "375/375 [==============================] - 1s 2ms/step - loss: 0.2988 - accuracy: 0.9173 - val_loss: 0.2899 - val_accuracy: 0.9184\n",
            "Epoch 91/200\n",
            "375/375 [==============================] - 1s 2ms/step - loss: 0.2984 - accuracy: 0.9173 - val_loss: 0.2897 - val_accuracy: 0.9188\n",
            "Epoch 92/200\n",
            "375/375 [==============================] - 1s 2ms/step - loss: 0.2981 - accuracy: 0.9171 - val_loss: 0.2893 - val_accuracy: 0.9186\n",
            "Epoch 93/200\n",
            "375/375 [==============================] - 1s 2ms/step - loss: 0.2978 - accuracy: 0.9172 - val_loss: 0.2891 - val_accuracy: 0.9191\n",
            "Epoch 94/200\n",
            "375/375 [==============================] - 1s 2ms/step - loss: 0.2974 - accuracy: 0.9176 - val_loss: 0.2889 - val_accuracy: 0.9190\n",
            "Epoch 95/200\n",
            "375/375 [==============================] - 1s 2ms/step - loss: 0.2971 - accuracy: 0.9175 - val_loss: 0.2887 - val_accuracy: 0.9193\n",
            "Epoch 96/200\n",
            "375/375 [==============================] - 1s 2ms/step - loss: 0.2967 - accuracy: 0.9177 - val_loss: 0.2885 - val_accuracy: 0.9194\n",
            "Epoch 97/200\n",
            "375/375 [==============================] - 1s 2ms/step - loss: 0.2964 - accuracy: 0.9176 - val_loss: 0.2882 - val_accuracy: 0.9196\n",
            "Epoch 98/200\n",
            "375/375 [==============================] - 1s 2ms/step - loss: 0.2961 - accuracy: 0.9179 - val_loss: 0.2879 - val_accuracy: 0.9191\n",
            "Epoch 99/200\n",
            "375/375 [==============================] - 1s 2ms/step - loss: 0.2957 - accuracy: 0.9178 - val_loss: 0.2877 - val_accuracy: 0.9190\n",
            "Epoch 100/200\n",
            "375/375 [==============================] - 1s 2ms/step - loss: 0.2954 - accuracy: 0.9178 - val_loss: 0.2874 - val_accuracy: 0.9193\n",
            "Epoch 101/200\n",
            "375/375 [==============================] - 1s 2ms/step - loss: 0.2951 - accuracy: 0.9180 - val_loss: 0.2873 - val_accuracy: 0.9196\n",
            "Epoch 102/200\n",
            "375/375 [==============================] - 1s 2ms/step - loss: 0.2948 - accuracy: 0.9180 - val_loss: 0.2870 - val_accuracy: 0.9194\n",
            "Epoch 103/200\n",
            "375/375 [==============================] - 1s 2ms/step - loss: 0.2945 - accuracy: 0.9180 - val_loss: 0.2868 - val_accuracy: 0.9193\n",
            "Epoch 104/200\n",
            "375/375 [==============================] - 1s 2ms/step - loss: 0.2942 - accuracy: 0.9181 - val_loss: 0.2866 - val_accuracy: 0.9197\n",
            "Epoch 105/200\n",
            "375/375 [==============================] - 1s 2ms/step - loss: 0.2939 - accuracy: 0.9181 - val_loss: 0.2864 - val_accuracy: 0.9198\n",
            "Epoch 106/200\n",
            "375/375 [==============================] - 1s 2ms/step - loss: 0.2936 - accuracy: 0.9181 - val_loss: 0.2861 - val_accuracy: 0.9198\n",
            "Epoch 107/200\n",
            "375/375 [==============================] - 1s 2ms/step - loss: 0.2933 - accuracy: 0.9186 - val_loss: 0.2861 - val_accuracy: 0.9200\n",
            "Epoch 108/200\n",
            "375/375 [==============================] - 1s 2ms/step - loss: 0.2930 - accuracy: 0.9186 - val_loss: 0.2858 - val_accuracy: 0.9203\n",
            "Epoch 109/200\n",
            "375/375 [==============================] - 1s 2ms/step - loss: 0.2927 - accuracy: 0.9185 - val_loss: 0.2857 - val_accuracy: 0.9202\n",
            "Epoch 110/200\n",
            "375/375 [==============================] - 1s 2ms/step - loss: 0.2924 - accuracy: 0.9188 - val_loss: 0.2855 - val_accuracy: 0.9199\n",
            "Epoch 111/200\n",
            "375/375 [==============================] - 1s 2ms/step - loss: 0.2922 - accuracy: 0.9189 - val_loss: 0.2852 - val_accuracy: 0.9202\n",
            "Epoch 112/200\n",
            "375/375 [==============================] - 1s 2ms/step - loss: 0.2919 - accuracy: 0.9186 - val_loss: 0.2852 - val_accuracy: 0.9199\n",
            "Epoch 113/200\n",
            "375/375 [==============================] - 1s 2ms/step - loss: 0.2916 - accuracy: 0.9188 - val_loss: 0.2849 - val_accuracy: 0.9198\n",
            "Epoch 114/200\n",
            "375/375 [==============================] - 1s 2ms/step - loss: 0.2913 - accuracy: 0.9190 - val_loss: 0.2848 - val_accuracy: 0.9201\n",
            "Epoch 115/200\n",
            "375/375 [==============================] - 1s 2ms/step - loss: 0.2911 - accuracy: 0.9191 - val_loss: 0.2846 - val_accuracy: 0.9201\n",
            "Epoch 116/200\n",
            "375/375 [==============================] - 1s 2ms/step - loss: 0.2909 - accuracy: 0.9189 - val_loss: 0.2843 - val_accuracy: 0.9204\n",
            "Epoch 117/200\n",
            "375/375 [==============================] - 1s 2ms/step - loss: 0.2905 - accuracy: 0.9192 - val_loss: 0.2842 - val_accuracy: 0.9202\n",
            "Epoch 118/200\n",
            "375/375 [==============================] - 1s 2ms/step - loss: 0.2904 - accuracy: 0.9195 - val_loss: 0.2841 - val_accuracy: 0.9210\n",
            "Epoch 119/200\n",
            "375/375 [==============================] - 1s 2ms/step - loss: 0.2901 - accuracy: 0.9193 - val_loss: 0.2838 - val_accuracy: 0.9211\n",
            "Epoch 120/200\n",
            "375/375 [==============================] - 1s 2ms/step - loss: 0.2898 - accuracy: 0.9193 - val_loss: 0.2837 - val_accuracy: 0.9211\n",
            "Epoch 121/200\n",
            "375/375 [==============================] - 1s 2ms/step - loss: 0.2896 - accuracy: 0.9195 - val_loss: 0.2836 - val_accuracy: 0.9208\n",
            "Epoch 122/200\n",
            "375/375 [==============================] - 1s 3ms/step - loss: 0.2894 - accuracy: 0.9195 - val_loss: 0.2834 - val_accuracy: 0.9207\n",
            "Epoch 123/200\n",
            "375/375 [==============================] - 1s 2ms/step - loss: 0.2891 - accuracy: 0.9194 - val_loss: 0.2832 - val_accuracy: 0.9210\n",
            "Epoch 124/200\n",
            "375/375 [==============================] - 1s 2ms/step - loss: 0.2889 - accuracy: 0.9196 - val_loss: 0.2831 - val_accuracy: 0.9210\n",
            "Epoch 125/200\n",
            "375/375 [==============================] - 1s 2ms/step - loss: 0.2886 - accuracy: 0.9198 - val_loss: 0.2828 - val_accuracy: 0.9212\n",
            "Epoch 126/200\n",
            "375/375 [==============================] - 1s 2ms/step - loss: 0.2884 - accuracy: 0.9194 - val_loss: 0.2827 - val_accuracy: 0.9218\n",
            "Epoch 127/200\n",
            "375/375 [==============================] - 1s 2ms/step - loss: 0.2882 - accuracy: 0.9200 - val_loss: 0.2826 - val_accuracy: 0.9212\n",
            "Epoch 128/200\n",
            "375/375 [==============================] - 1s 2ms/step - loss: 0.2880 - accuracy: 0.9197 - val_loss: 0.2824 - val_accuracy: 0.9211\n",
            "Epoch 129/200\n",
            "375/375 [==============================] - 1s 2ms/step - loss: 0.2877 - accuracy: 0.9200 - val_loss: 0.2823 - val_accuracy: 0.9216\n",
            "Epoch 130/200\n",
            "375/375 [==============================] - 1s 2ms/step - loss: 0.2875 - accuracy: 0.9200 - val_loss: 0.2822 - val_accuracy: 0.9212\n",
            "Epoch 131/200\n",
            "375/375 [==============================] - 1s 2ms/step - loss: 0.2873 - accuracy: 0.9200 - val_loss: 0.2820 - val_accuracy: 0.9214\n",
            "Epoch 132/200\n",
            "375/375 [==============================] - 1s 2ms/step - loss: 0.2871 - accuracy: 0.9199 - val_loss: 0.2818 - val_accuracy: 0.9214\n",
            "Epoch 133/200\n",
            "375/375 [==============================] - 1s 2ms/step - loss: 0.2869 - accuracy: 0.9201 - val_loss: 0.2817 - val_accuracy: 0.9213\n",
            "Epoch 134/200\n",
            "375/375 [==============================] - 1s 2ms/step - loss: 0.2867 - accuracy: 0.9202 - val_loss: 0.2816 - val_accuracy: 0.9214\n",
            "Epoch 135/200\n",
            "375/375 [==============================] - 1s 2ms/step - loss: 0.2864 - accuracy: 0.9203 - val_loss: 0.2814 - val_accuracy: 0.9216\n",
            "Epoch 136/200\n",
            "375/375 [==============================] - 1s 2ms/step - loss: 0.2862 - accuracy: 0.9201 - val_loss: 0.2813 - val_accuracy: 0.9214\n",
            "Epoch 137/200\n",
            "375/375 [==============================] - 1s 2ms/step - loss: 0.2860 - accuracy: 0.9204 - val_loss: 0.2812 - val_accuracy: 0.9218\n",
            "Epoch 138/200\n",
            "375/375 [==============================] - 1s 2ms/step - loss: 0.2858 - accuracy: 0.9206 - val_loss: 0.2811 - val_accuracy: 0.9217\n",
            "Epoch 139/200\n",
            "375/375 [==============================] - 1s 2ms/step - loss: 0.2856 - accuracy: 0.9203 - val_loss: 0.2809 - val_accuracy: 0.9218\n",
            "Epoch 140/200\n",
            "375/375 [==============================] - 1s 2ms/step - loss: 0.2855 - accuracy: 0.9203 - val_loss: 0.2808 - val_accuracy: 0.9217\n",
            "Epoch 141/200\n",
            "375/375 [==============================] - 1s 2ms/step - loss: 0.2852 - accuracy: 0.9208 - val_loss: 0.2807 - val_accuracy: 0.9216\n",
            "Epoch 142/200\n",
            "375/375 [==============================] - 1s 2ms/step - loss: 0.2851 - accuracy: 0.9207 - val_loss: 0.2805 - val_accuracy: 0.9218\n",
            "Epoch 143/200\n",
            "375/375 [==============================] - 1s 2ms/step - loss: 0.2848 - accuracy: 0.9208 - val_loss: 0.2805 - val_accuracy: 0.9208\n",
            "Epoch 144/200\n",
            "375/375 [==============================] - 1s 2ms/step - loss: 0.2847 - accuracy: 0.9208 - val_loss: 0.2804 - val_accuracy: 0.9221\n",
            "Epoch 145/200\n",
            "375/375 [==============================] - 1s 2ms/step - loss: 0.2845 - accuracy: 0.9207 - val_loss: 0.2802 - val_accuracy: 0.9218\n",
            "Epoch 146/200\n",
            "375/375 [==============================] - 1s 2ms/step - loss: 0.2843 - accuracy: 0.9206 - val_loss: 0.2800 - val_accuracy: 0.9218\n",
            "Epoch 147/200\n",
            "375/375 [==============================] - 1s 2ms/step - loss: 0.2841 - accuracy: 0.9213 - val_loss: 0.2800 - val_accuracy: 0.9219\n",
            "Epoch 148/200\n",
            "375/375 [==============================] - 1s 2ms/step - loss: 0.2839 - accuracy: 0.9210 - val_loss: 0.2798 - val_accuracy: 0.9223\n",
            "Epoch 149/200\n",
            "375/375 [==============================] - 1s 2ms/step - loss: 0.2837 - accuracy: 0.9212 - val_loss: 0.2798 - val_accuracy: 0.9218\n",
            "Epoch 150/200\n",
            "375/375 [==============================] - 1s 2ms/step - loss: 0.2836 - accuracy: 0.9213 - val_loss: 0.2796 - val_accuracy: 0.9218\n",
            "Epoch 151/200\n",
            "375/375 [==============================] - 1s 2ms/step - loss: 0.2834 - accuracy: 0.9211 - val_loss: 0.2795 - val_accuracy: 0.9222\n",
            "Epoch 152/200\n",
            "375/375 [==============================] - 1s 2ms/step - loss: 0.2832 - accuracy: 0.9212 - val_loss: 0.2793 - val_accuracy: 0.9215\n",
            "Epoch 153/200\n",
            "375/375 [==============================] - 1s 2ms/step - loss: 0.2830 - accuracy: 0.9215 - val_loss: 0.2792 - val_accuracy: 0.9222\n",
            "Epoch 154/200\n",
            "375/375 [==============================] - 1s 2ms/step - loss: 0.2828 - accuracy: 0.9214 - val_loss: 0.2791 - val_accuracy: 0.9220\n",
            "Epoch 155/200\n",
            "375/375 [==============================] - 1s 2ms/step - loss: 0.2827 - accuracy: 0.9211 - val_loss: 0.2790 - val_accuracy: 0.9221\n",
            "Epoch 156/200\n",
            "375/375 [==============================] - 1s 2ms/step - loss: 0.2825 - accuracy: 0.9212 - val_loss: 0.2789 - val_accuracy: 0.9218\n",
            "Epoch 157/200\n",
            "375/375 [==============================] - 1s 2ms/step - loss: 0.2823 - accuracy: 0.9214 - val_loss: 0.2789 - val_accuracy: 0.9217\n",
            "Epoch 158/200\n",
            "375/375 [==============================] - 1s 2ms/step - loss: 0.2822 - accuracy: 0.9216 - val_loss: 0.2788 - val_accuracy: 0.9222\n",
            "Epoch 159/200\n",
            "375/375 [==============================] - 1s 2ms/step - loss: 0.2820 - accuracy: 0.9218 - val_loss: 0.2786 - val_accuracy: 0.9217\n",
            "Epoch 160/200\n",
            "375/375 [==============================] - 1s 2ms/step - loss: 0.2818 - accuracy: 0.9218 - val_loss: 0.2785 - val_accuracy: 0.9222\n",
            "Epoch 161/200\n",
            "375/375 [==============================] - 1s 2ms/step - loss: 0.2816 - accuracy: 0.9217 - val_loss: 0.2784 - val_accuracy: 0.9218\n",
            "Epoch 162/200\n",
            "375/375 [==============================] - 1s 2ms/step - loss: 0.2815 - accuracy: 0.9219 - val_loss: 0.2783 - val_accuracy: 0.9214\n",
            "Epoch 163/200\n",
            "375/375 [==============================] - 1s 2ms/step - loss: 0.2813 - accuracy: 0.9218 - val_loss: 0.2782 - val_accuracy: 0.9221\n",
            "Epoch 164/200\n",
            "375/375 [==============================] - 1s 2ms/step - loss: 0.2812 - accuracy: 0.9218 - val_loss: 0.2781 - val_accuracy: 0.9226\n",
            "Epoch 165/200\n",
            "375/375 [==============================] - 1s 2ms/step - loss: 0.2810 - accuracy: 0.9217 - val_loss: 0.2781 - val_accuracy: 0.9218\n",
            "Epoch 166/200\n",
            "375/375 [==============================] - 1s 2ms/step - loss: 0.2809 - accuracy: 0.9220 - val_loss: 0.2779 - val_accuracy: 0.9222\n",
            "Epoch 167/200\n",
            "375/375 [==============================] - 1s 2ms/step - loss: 0.2807 - accuracy: 0.9221 - val_loss: 0.2778 - val_accuracy: 0.9222\n",
            "Epoch 168/200\n",
            "375/375 [==============================] - 1s 2ms/step - loss: 0.2806 - accuracy: 0.9219 - val_loss: 0.2777 - val_accuracy: 0.9218\n",
            "Epoch 169/200\n",
            "375/375 [==============================] - 1s 2ms/step - loss: 0.2804 - accuracy: 0.9223 - val_loss: 0.2776 - val_accuracy: 0.9224\n",
            "Epoch 170/200\n",
            "375/375 [==============================] - 1s 3ms/step - loss: 0.2802 - accuracy: 0.9222 - val_loss: 0.2776 - val_accuracy: 0.9218\n",
            "Epoch 171/200\n",
            "375/375 [==============================] - 1s 2ms/step - loss: 0.2801 - accuracy: 0.9221 - val_loss: 0.2775 - val_accuracy: 0.9219\n",
            "Epoch 172/200\n",
            "375/375 [==============================] - 1s 2ms/step - loss: 0.2799 - accuracy: 0.9220 - val_loss: 0.2774 - val_accuracy: 0.9219\n",
            "Epoch 173/200\n",
            "375/375 [==============================] - 1s 2ms/step - loss: 0.2798 - accuracy: 0.9222 - val_loss: 0.2773 - val_accuracy: 0.9221\n",
            "Epoch 174/200\n",
            "375/375 [==============================] - 1s 2ms/step - loss: 0.2797 - accuracy: 0.9221 - val_loss: 0.2772 - val_accuracy: 0.9217\n",
            "Epoch 175/200\n",
            "375/375 [==============================] - 1s 2ms/step - loss: 0.2795 - accuracy: 0.9224 - val_loss: 0.2771 - val_accuracy: 0.9218\n",
            "Epoch 176/200\n",
            "375/375 [==============================] - 1s 2ms/step - loss: 0.2793 - accuracy: 0.9223 - val_loss: 0.2771 - val_accuracy: 0.9221\n",
            "Epoch 177/200\n",
            "375/375 [==============================] - 1s 2ms/step - loss: 0.2792 - accuracy: 0.9224 - val_loss: 0.2769 - val_accuracy: 0.9216\n",
            "Epoch 178/200\n",
            "375/375 [==============================] - 1s 2ms/step - loss: 0.2791 - accuracy: 0.9222 - val_loss: 0.2768 - val_accuracy: 0.9216\n",
            "Epoch 179/200\n",
            "375/375 [==============================] - 1s 2ms/step - loss: 0.2789 - accuracy: 0.9224 - val_loss: 0.2768 - val_accuracy: 0.9216\n",
            "Epoch 180/200\n",
            "375/375 [==============================] - 1s 2ms/step - loss: 0.2788 - accuracy: 0.9224 - val_loss: 0.2766 - val_accuracy: 0.9219\n",
            "Epoch 181/200\n",
            "375/375 [==============================] - 1s 2ms/step - loss: 0.2787 - accuracy: 0.9226 - val_loss: 0.2767 - val_accuracy: 0.9220\n",
            "Epoch 182/200\n",
            "375/375 [==============================] - 1s 2ms/step - loss: 0.2785 - accuracy: 0.9222 - val_loss: 0.2766 - val_accuracy: 0.9220\n",
            "Epoch 183/200\n",
            "375/375 [==============================] - 1s 2ms/step - loss: 0.2784 - accuracy: 0.9224 - val_loss: 0.2764 - val_accuracy: 0.9219\n",
            "Epoch 184/200\n",
            "375/375 [==============================] - 1s 2ms/step - loss: 0.2782 - accuracy: 0.9226 - val_loss: 0.2763 - val_accuracy: 0.9222\n",
            "Epoch 185/200\n",
            "375/375 [==============================] - 1s 2ms/step - loss: 0.2781 - accuracy: 0.9227 - val_loss: 0.2762 - val_accuracy: 0.9220\n",
            "Epoch 186/200\n",
            "375/375 [==============================] - 1s 2ms/step - loss: 0.2780 - accuracy: 0.9223 - val_loss: 0.2762 - val_accuracy: 0.9219\n",
            "Epoch 187/200\n",
            "375/375 [==============================] - 1s 2ms/step - loss: 0.2778 - accuracy: 0.9229 - val_loss: 0.2762 - val_accuracy: 0.9221\n",
            "Epoch 188/200\n",
            "375/375 [==============================] - 1s 2ms/step - loss: 0.2777 - accuracy: 0.9227 - val_loss: 0.2761 - val_accuracy: 0.9225\n",
            "Epoch 189/200\n",
            "375/375 [==============================] - 1s 2ms/step - loss: 0.2775 - accuracy: 0.9226 - val_loss: 0.2761 - val_accuracy: 0.9225\n",
            "Epoch 190/200\n",
            "375/375 [==============================] - 1s 2ms/step - loss: 0.2774 - accuracy: 0.9226 - val_loss: 0.2759 - val_accuracy: 0.9218\n",
            "Epoch 191/200\n",
            "375/375 [==============================] - 1s 2ms/step - loss: 0.2773 - accuracy: 0.9227 - val_loss: 0.2759 - val_accuracy: 0.9225\n",
            "Epoch 192/200\n",
            "375/375 [==============================] - 1s 2ms/step - loss: 0.2772 - accuracy: 0.9230 - val_loss: 0.2757 - val_accuracy: 0.9225\n",
            "Epoch 193/200\n",
            "375/375 [==============================] - 1s 2ms/step - loss: 0.2771 - accuracy: 0.9229 - val_loss: 0.2757 - val_accuracy: 0.9225\n",
            "Epoch 194/200\n",
            "375/375 [==============================] - 1s 2ms/step - loss: 0.2769 - accuracy: 0.9228 - val_loss: 0.2756 - val_accuracy: 0.9226\n",
            "Epoch 195/200\n",
            "375/375 [==============================] - 1s 2ms/step - loss: 0.2768 - accuracy: 0.9232 - val_loss: 0.2756 - val_accuracy: 0.9227\n",
            "Epoch 196/200\n",
            "375/375 [==============================] - 1s 2ms/step - loss: 0.2767 - accuracy: 0.9231 - val_loss: 0.2756 - val_accuracy: 0.9227\n",
            "Epoch 197/200\n",
            "375/375 [==============================] - 1s 2ms/step - loss: 0.2766 - accuracy: 0.9229 - val_loss: 0.2754 - val_accuracy: 0.9223\n",
            "Epoch 198/200\n",
            "375/375 [==============================] - 1s 2ms/step - loss: 0.2764 - accuracy: 0.9231 - val_loss: 0.2754 - val_accuracy: 0.9226\n",
            "Epoch 199/200\n",
            "375/375 [==============================] - 1s 2ms/step - loss: 0.2763 - accuracy: 0.9229 - val_loss: 0.2752 - val_accuracy: 0.9231\n",
            "Epoch 200/200\n",
            "375/375 [==============================] - 1s 2ms/step - loss: 0.2762 - accuracy: 0.9231 - val_loss: 0.2753 - val_accuracy: 0.9226\n"
          ]
        },
        {
          "output_type": "execute_result",
          "data": {
            "text/plain": [
              "<keras.src.callbacks.History at 0x7d0e0e495e10>"
            ]
          },
          "metadata": {},
          "execution_count": 42
        }
      ]
    },
    {
      "cell_type": "code",
      "source": [
        "#Evaluate the model\n",
        "test_loss, test_acc = model.evaluate(X_test, y_test)\n",
        "print('Test loss', test_loss)\n",
        "print('Test accuracy', test_acc)"
      ],
      "metadata": {
        "colab": {
          "base_uri": "https://localhost:8080/"
        },
        "id": "1EgsQu-b2Pvd",
        "outputId": "80cf5a2a-6507-457a-ffa9-68ed4a054e69"
      },
      "execution_count": null,
      "outputs": [
        {
          "output_type": "stream",
          "name": "stdout",
          "text": [
            "313/313 [==============================] - 0s 1ms/step - loss: 0.2779 - accuracy: 0.9228\n",
            "Test loss 0.2779472768306732\n",
            "Test accuracy 0.9228000044822693\n"
          ]
        }
      ]
    },
    {
      "cell_type": "code",
      "source": [
        "# Improving the neural net"
      ],
      "metadata": {
        "id": "MUNX08fX3KcE"
      },
      "execution_count": null,
      "outputs": []
    },
    {
      "cell_type": "code",
      "source": [
        "EPOCHS = 50\n",
        "BATCH_SIZE = 128\n",
        "VERBOSE = 1\n",
        "NB_CLASSES = 10\n",
        "N_HIDDEN = 128\n",
        "VALIDATION_SPLIT = 0.2"
      ],
      "metadata": {
        "id": "fRV38eoZPKxr"
      },
      "execution_count": null,
      "outputs": []
    },
    {
      "cell_type": "code",
      "source": [
        "(X_train, y_train), (X_test, y_test) = mnist.load_data()"
      ],
      "metadata": {
        "colab": {
          "base_uri": "https://localhost:8080/"
        },
        "id": "H0lAA-VuPUGN",
        "outputId": "9e909ed6-7294-4711-9471-3357b4caf4cc"
      },
      "execution_count": null,
      "outputs": [
        {
          "output_type": "stream",
          "name": "stdout",
          "text": [
            "Downloading data from https://storage.googleapis.com/tensorflow/tf-keras-datasets/mnist.npz\n",
            "11490434/11490434 [==============================] - 0s 0us/step\n"
          ]
        }
      ]
    },
    {
      "cell_type": "code",
      "source": [
        "RESHAPED = 784"
      ],
      "metadata": {
        "id": "sXL2lkKzPaRJ"
      },
      "execution_count": null,
      "outputs": []
    },
    {
      "cell_type": "code",
      "source": [
        "X_train = X_train.reshape(60000, RESHAPED)\n",
        "X_test = X_test.reshape(10000, RESHAPED)\n",
        "X_train.astype('float32')\n",
        "X_test.astype('float32')"
      ],
      "metadata": {
        "colab": {
          "base_uri": "https://localhost:8080/"
        },
        "id": "r48xLxDwPglV",
        "outputId": "dbf346bb-82c8-46de-effa-32b59efa3013"
      },
      "execution_count": null,
      "outputs": [
        {
          "output_type": "execute_result",
          "data": {
            "text/plain": [
              "array([[0., 0., 0., ..., 0., 0., 0.],\n",
              "       [0., 0., 0., ..., 0., 0., 0.],\n",
              "       [0., 0., 0., ..., 0., 0., 0.],\n",
              "       ...,\n",
              "       [0., 0., 0., ..., 0., 0., 0.],\n",
              "       [0., 0., 0., ..., 0., 0., 0.],\n",
              "       [0., 0., 0., ..., 0., 0., 0.]], dtype=float32)"
            ]
          },
          "metadata": {},
          "execution_count": 9
        }
      ]
    },
    {
      "cell_type": "code",
      "source": [
        "X_train, X_test = X_train / 255.0, X_test / 255.0"
      ],
      "metadata": {
        "id": "bx-hcdAKPw5s"
      },
      "execution_count": null,
      "outputs": []
    },
    {
      "cell_type": "code",
      "source": [
        "X_train.shape, X_test.shape"
      ],
      "metadata": {
        "colab": {
          "base_uri": "https://localhost:8080/"
        },
        "id": "ScYeG83qP2uR",
        "outputId": "a58efc78-8032-496d-dc85-a2c4c8bff54e"
      },
      "execution_count": null,
      "outputs": [
        {
          "output_type": "execute_result",
          "data": {
            "text/plain": [
              "((60000, 784), (10000, 784))"
            ]
          },
          "metadata": {},
          "execution_count": 11
        }
      ]
    },
    {
      "cell_type": "code",
      "source": [
        "y_train = tf.keras.utils.to_categorical(y_train, NB_CLASSES)\n",
        "y_test = tf.keras.utils.to_categorical(y_test, NB_CLASSES)"
      ],
      "metadata": {
        "id": "dTlb8YYTP806"
      },
      "execution_count": null,
      "outputs": []
    },
    {
      "cell_type": "code",
      "source": [
        "# Build the model"
      ],
      "metadata": {
        "id": "yqgh8IxHQUsC"
      },
      "execution_count": null,
      "outputs": []
    },
    {
      "cell_type": "code",
      "source": [
        "model = tf.keras.models.Sequential()\n",
        "model.add(\n",
        "    keras.layers.Dense(N_HIDDEN,\n",
        "                       input_shape=(RESHAPED,),\n",
        "                       name='dense_layer',\n",
        "                       activation='relu')\n",
        ")\n",
        "model.add(\n",
        "    keras.layers.Dense(\n",
        "        N_HIDDEN,\n",
        "        name='dense_layer_2',\n",
        "        activation='relu'\n",
        "    )\n",
        ")\n",
        "model.add(\n",
        "    keras.layers.Dense(NB_CLASSES,\n",
        "                       name='dense_layer_3',\n",
        "                       activation='softmax')\n",
        ")"
      ],
      "metadata": {
        "id": "rjkrFf1MQYP3"
      },
      "execution_count": null,
      "outputs": []
    },
    {
      "cell_type": "code",
      "source": [
        "model.summary()"
      ],
      "metadata": {
        "colab": {
          "base_uri": "https://localhost:8080/"
        },
        "id": "6ULg8GYyRIa3",
        "outputId": "abbe06e1-f654-4c93-de5b-5b41d602eb2d"
      },
      "execution_count": null,
      "outputs": [
        {
          "output_type": "stream",
          "name": "stdout",
          "text": [
            "Model: \"sequential\"\n",
            "_________________________________________________________________\n",
            " Layer (type)                Output Shape              Param #   \n",
            "=================================================================\n",
            " dense_layer (Dense)         (None, 128)               100480    \n",
            "                                                                 \n",
            " dense_layer_2 (Dense)       (None, 128)               16512     \n",
            "                                                                 \n",
            " dense_layer_3 (Dense)       (None, 10)                1290      \n",
            "                                                                 \n",
            "=================================================================\n",
            "Total params: 118282 (462.04 KB)\n",
            "Trainable params: 118282 (462.04 KB)\n",
            "Non-trainable params: 0 (0.00 Byte)\n",
            "_________________________________________________________________\n"
          ]
        }
      ]
    },
    {
      "cell_type": "code",
      "source": [
        "# Compile the model"
      ],
      "metadata": {
        "id": "GWSMCtdeRJjk"
      },
      "execution_count": null,
      "outputs": []
    },
    {
      "cell_type": "code",
      "source": [
        "model.compile(\n",
        "    optimizer='SGD',\n",
        "    loss='categorical_crossentropy',\n",
        "    metrics=['accuracy']\n",
        ")"
      ],
      "metadata": {
        "id": "tQAEIIjJRNjE"
      },
      "execution_count": null,
      "outputs": []
    },
    {
      "cell_type": "code",
      "source": [
        "# Train the model"
      ],
      "metadata": {
        "id": "rgM-vazERWRI"
      },
      "execution_count": null,
      "outputs": []
    },
    {
      "cell_type": "code",
      "source": [
        "model.fit(\n",
        "    X_train, y_train, batch_size=BATCH_SIZE, epochs=EPOCHS, verbose=VERBOSE,\n",
        "    validation_split=VALIDATION_SPLIT\n",
        ")"
      ],
      "metadata": {
        "colab": {
          "base_uri": "https://localhost:8080/"
        },
        "id": "0iFxLJrgRdf0",
        "outputId": "5d69b98f-37c7-41c8-a25c-78f31af5b7e3"
      },
      "execution_count": null,
      "outputs": [
        {
          "output_type": "stream",
          "name": "stdout",
          "text": [
            "Epoch 1/50\n",
            "375/375 [==============================] - 2s 3ms/step - loss: 1.4823 - accuracy: 0.6399 - val_loss: 0.7474 - val_accuracy: 0.8543\n",
            "Epoch 2/50\n",
            "375/375 [==============================] - 1s 3ms/step - loss: 0.5857 - accuracy: 0.8626 - val_loss: 0.4461 - val_accuracy: 0.8878\n",
            "Epoch 3/50\n",
            "375/375 [==============================] - 1s 3ms/step - loss: 0.4280 - accuracy: 0.8865 - val_loss: 0.3683 - val_accuracy: 0.9005\n",
            "Epoch 4/50\n",
            "375/375 [==============================] - 1s 3ms/step - loss: 0.3718 - accuracy: 0.8973 - val_loss: 0.3335 - val_accuracy: 0.9076\n",
            "Epoch 5/50\n",
            "375/375 [==============================] - 1s 3ms/step - loss: 0.3406 - accuracy: 0.9040 - val_loss: 0.3102 - val_accuracy: 0.9138\n",
            "Epoch 6/50\n",
            "375/375 [==============================] - 2s 4ms/step - loss: 0.3187 - accuracy: 0.9109 - val_loss: 0.2944 - val_accuracy: 0.9179\n",
            "Epoch 7/50\n",
            "375/375 [==============================] - 1s 4ms/step - loss: 0.3021 - accuracy: 0.9139 - val_loss: 0.2833 - val_accuracy: 0.9212\n",
            "Epoch 8/50\n",
            "375/375 [==============================] - 2s 4ms/step - loss: 0.2880 - accuracy: 0.9183 - val_loss: 0.2696 - val_accuracy: 0.9250\n",
            "Epoch 9/50\n",
            "375/375 [==============================] - 1s 4ms/step - loss: 0.2759 - accuracy: 0.9216 - val_loss: 0.2599 - val_accuracy: 0.9273\n",
            "Epoch 10/50\n",
            "375/375 [==============================] - 1s 3ms/step - loss: 0.2653 - accuracy: 0.9241 - val_loss: 0.2508 - val_accuracy: 0.9291\n",
            "Epoch 11/50\n",
            "375/375 [==============================] - 1s 3ms/step - loss: 0.2555 - accuracy: 0.9271 - val_loss: 0.2439 - val_accuracy: 0.9302\n",
            "Epoch 12/50\n",
            "375/375 [==============================] - 1s 3ms/step - loss: 0.2469 - accuracy: 0.9299 - val_loss: 0.2354 - val_accuracy: 0.9333\n",
            "Epoch 13/50\n",
            "375/375 [==============================] - 1s 3ms/step - loss: 0.2387 - accuracy: 0.9321 - val_loss: 0.2301 - val_accuracy: 0.9359\n",
            "Epoch 14/50\n",
            "375/375 [==============================] - 1s 3ms/step - loss: 0.2311 - accuracy: 0.9344 - val_loss: 0.2229 - val_accuracy: 0.9383\n",
            "Epoch 15/50\n",
            "375/375 [==============================] - 2s 4ms/step - loss: 0.2240 - accuracy: 0.9362 - val_loss: 0.2172 - val_accuracy: 0.9387\n",
            "Epoch 16/50\n",
            "375/375 [==============================] - 1s 3ms/step - loss: 0.2170 - accuracy: 0.9383 - val_loss: 0.2137 - val_accuracy: 0.9390\n",
            "Epoch 17/50\n",
            "375/375 [==============================] - 1s 3ms/step - loss: 0.2112 - accuracy: 0.9395 - val_loss: 0.2065 - val_accuracy: 0.9417\n",
            "Epoch 18/50\n",
            "375/375 [==============================] - 1s 3ms/step - loss: 0.2053 - accuracy: 0.9411 - val_loss: 0.2025 - val_accuracy: 0.9419\n",
            "Epoch 19/50\n",
            "375/375 [==============================] - 1s 3ms/step - loss: 0.1998 - accuracy: 0.9426 - val_loss: 0.1975 - val_accuracy: 0.9442\n",
            "Epoch 20/50\n",
            "375/375 [==============================] - 1s 4ms/step - loss: 0.1945 - accuracy: 0.9444 - val_loss: 0.1933 - val_accuracy: 0.9458\n",
            "Epoch 21/50\n",
            "375/375 [==============================] - 1s 3ms/step - loss: 0.1896 - accuracy: 0.9455 - val_loss: 0.1896 - val_accuracy: 0.9473\n",
            "Epoch 22/50\n",
            "375/375 [==============================] - 1s 3ms/step - loss: 0.1847 - accuracy: 0.9473 - val_loss: 0.1859 - val_accuracy: 0.9482\n",
            "Epoch 23/50\n",
            "375/375 [==============================] - 1s 3ms/step - loss: 0.1800 - accuracy: 0.9485 - val_loss: 0.1817 - val_accuracy: 0.9496\n",
            "Epoch 24/50\n",
            "375/375 [==============================] - 1s 3ms/step - loss: 0.1758 - accuracy: 0.9497 - val_loss: 0.1780 - val_accuracy: 0.9502\n",
            "Epoch 25/50\n",
            "375/375 [==============================] - 1s 3ms/step - loss: 0.1716 - accuracy: 0.9511 - val_loss: 0.1771 - val_accuracy: 0.9506\n",
            "Epoch 26/50\n",
            "375/375 [==============================] - 1s 3ms/step - loss: 0.1676 - accuracy: 0.9521 - val_loss: 0.1721 - val_accuracy: 0.9507\n",
            "Epoch 27/50\n",
            "375/375 [==============================] - 1s 3ms/step - loss: 0.1637 - accuracy: 0.9535 - val_loss: 0.1697 - val_accuracy: 0.9528\n",
            "Epoch 28/50\n",
            "375/375 [==============================] - 1s 3ms/step - loss: 0.1602 - accuracy: 0.9541 - val_loss: 0.1664 - val_accuracy: 0.9535\n",
            "Epoch 29/50\n",
            "375/375 [==============================] - 1s 3ms/step - loss: 0.1564 - accuracy: 0.9559 - val_loss: 0.1641 - val_accuracy: 0.9536\n",
            "Epoch 30/50\n",
            "375/375 [==============================] - 1s 3ms/step - loss: 0.1529 - accuracy: 0.9567 - val_loss: 0.1615 - val_accuracy: 0.9550\n",
            "Epoch 31/50\n",
            "375/375 [==============================] - 1s 3ms/step - loss: 0.1498 - accuracy: 0.9576 - val_loss: 0.1581 - val_accuracy: 0.9562\n",
            "Epoch 32/50\n",
            "375/375 [==============================] - 1s 3ms/step - loss: 0.1465 - accuracy: 0.9587 - val_loss: 0.1567 - val_accuracy: 0.9569\n",
            "Epoch 33/50\n",
            "375/375 [==============================] - 1s 3ms/step - loss: 0.1435 - accuracy: 0.9593 - val_loss: 0.1542 - val_accuracy: 0.9570\n",
            "Epoch 34/50\n",
            "375/375 [==============================] - 1s 3ms/step - loss: 0.1405 - accuracy: 0.9603 - val_loss: 0.1514 - val_accuracy: 0.9576\n",
            "Epoch 35/50\n",
            "375/375 [==============================] - 1s 4ms/step - loss: 0.1375 - accuracy: 0.9614 - val_loss: 0.1492 - val_accuracy: 0.9585\n",
            "Epoch 36/50\n",
            "375/375 [==============================] - 1s 3ms/step - loss: 0.1346 - accuracy: 0.9624 - val_loss: 0.1475 - val_accuracy: 0.9589\n",
            "Epoch 37/50\n",
            "375/375 [==============================] - 1s 3ms/step - loss: 0.1319 - accuracy: 0.9630 - val_loss: 0.1452 - val_accuracy: 0.9592\n",
            "Epoch 38/50\n",
            "375/375 [==============================] - 1s 3ms/step - loss: 0.1292 - accuracy: 0.9633 - val_loss: 0.1440 - val_accuracy: 0.9599\n",
            "Epoch 39/50\n",
            "375/375 [==============================] - 1s 3ms/step - loss: 0.1269 - accuracy: 0.9644 - val_loss: 0.1426 - val_accuracy: 0.9590\n",
            "Epoch 40/50\n",
            "375/375 [==============================] - 1s 3ms/step - loss: 0.1244 - accuracy: 0.9646 - val_loss: 0.1403 - val_accuracy: 0.9598\n",
            "Epoch 41/50\n",
            "375/375 [==============================] - 1s 3ms/step - loss: 0.1221 - accuracy: 0.9657 - val_loss: 0.1391 - val_accuracy: 0.9608\n",
            "Epoch 42/50\n",
            "375/375 [==============================] - 1s 3ms/step - loss: 0.1196 - accuracy: 0.9666 - val_loss: 0.1382 - val_accuracy: 0.9609\n",
            "Epoch 43/50\n",
            "375/375 [==============================] - 1s 3ms/step - loss: 0.1174 - accuracy: 0.9674 - val_loss: 0.1356 - val_accuracy: 0.9614\n",
            "Epoch 44/50\n",
            "375/375 [==============================] - 1s 3ms/step - loss: 0.1154 - accuracy: 0.9678 - val_loss: 0.1337 - val_accuracy: 0.9613\n",
            "Epoch 45/50\n",
            "375/375 [==============================] - 1s 4ms/step - loss: 0.1133 - accuracy: 0.9685 - val_loss: 0.1329 - val_accuracy: 0.9616\n",
            "Epoch 46/50\n",
            "375/375 [==============================] - 1s 3ms/step - loss: 0.1113 - accuracy: 0.9689 - val_loss: 0.1312 - val_accuracy: 0.9622\n",
            "Epoch 47/50\n",
            "375/375 [==============================] - 1s 3ms/step - loss: 0.1093 - accuracy: 0.9694 - val_loss: 0.1304 - val_accuracy: 0.9626\n",
            "Epoch 48/50\n",
            "375/375 [==============================] - 1s 3ms/step - loss: 0.1073 - accuracy: 0.9701 - val_loss: 0.1294 - val_accuracy: 0.9628\n",
            "Epoch 49/50\n",
            "375/375 [==============================] - 1s 3ms/step - loss: 0.1054 - accuracy: 0.9707 - val_loss: 0.1275 - val_accuracy: 0.9633\n",
            "Epoch 50/50\n",
            "375/375 [==============================] - 1s 3ms/step - loss: 0.1038 - accuracy: 0.9704 - val_loss: 0.1268 - val_accuracy: 0.9631\n"
          ]
        },
        {
          "output_type": "execute_result",
          "data": {
            "text/plain": [
              "<keras.src.callbacks.History at 0x7b8632a42c50>"
            ]
          },
          "metadata": {},
          "execution_count": 20
        }
      ]
    },
    {
      "cell_type": "code",
      "source": [
        "# Evaluate the model"
      ],
      "metadata": {
        "id": "pqb3yZe5Rsw-"
      },
      "execution_count": null,
      "outputs": []
    },
    {
      "cell_type": "code",
      "source": [
        "test_loss, test_acc = model.evaluate(X_test, y_test)\n",
        "test_acc"
      ],
      "metadata": {
        "colab": {
          "base_uri": "https://localhost:8080/"
        },
        "id": "ZpyVElzcSnDD",
        "outputId": "7067ad98-2d97-4236-8512-843df825dc1e"
      },
      "execution_count": null,
      "outputs": [
        {
          "output_type": "stream",
          "name": "stdout",
          "text": [
            "313/313 [==============================] - 0s 1ms/step - loss: 0.1218 - accuracy: 0.9633\n"
          ]
        },
        {
          "output_type": "execute_result",
          "data": {
            "text/plain": [
              "0.9632999897003174"
            ]
          },
          "metadata": {},
          "execution_count": 22
        }
      ]
    },
    {
      "cell_type": "markdown",
      "source": [
        "# **Improving the network with dropout**"
      ],
      "metadata": {
        "id": "BPdFuhGlUHDA"
      }
    },
    {
      "cell_type": "code",
      "source": [
        "EPOCHS = 200\n",
        "BATCH_SIZE = 128\n",
        "VERBOSE = 1\n",
        "NB_CLASSES = 10\n",
        "N_HIDDEN = 128\n",
        "VALIDATION_SPLIT = 0.2\n",
        "DROPOUT = 0.3"
      ],
      "metadata": {
        "id": "zivfDWnuUNBK"
      },
      "execution_count": 27,
      "outputs": []
    },
    {
      "cell_type": "code",
      "source": [
        "mnist = keras.datasets.mnist"
      ],
      "metadata": {
        "id": "5U1GUUzZUPvQ"
      },
      "execution_count": 28,
      "outputs": []
    },
    {
      "cell_type": "code",
      "source": [
        "(X_train, y_train), (X_test, y_test) = mnist.load_data()"
      ],
      "metadata": {
        "id": "t8PGyBFfZTLt"
      },
      "execution_count": 30,
      "outputs": []
    },
    {
      "cell_type": "code",
      "source": [
        "RESHAPED = 784"
      ],
      "metadata": {
        "id": "smivu1wBZWiU"
      },
      "execution_count": 31,
      "outputs": []
    },
    {
      "cell_type": "code",
      "source": [
        "X_train = X_train.reshape(60000, RESHAPED)\n",
        "X_test = X_test.reshape(10000, RESHAPED)\n",
        "X_train.astype('float32')\n",
        "X_test.astype('float32')"
      ],
      "metadata": {
        "colab": {
          "base_uri": "https://localhost:8080/"
        },
        "id": "OcPg9vWUZb2m",
        "outputId": "d936f8be-0f4d-4637-a096-2a18a7a4ad07"
      },
      "execution_count": 33,
      "outputs": [
        {
          "output_type": "execute_result",
          "data": {
            "text/plain": [
              "array([[0., 0., 0., ..., 0., 0., 0.],\n",
              "       [0., 0., 0., ..., 0., 0., 0.],\n",
              "       [0., 0., 0., ..., 0., 0., 0.],\n",
              "       ...,\n",
              "       [0., 0., 0., ..., 0., 0., 0.],\n",
              "       [0., 0., 0., ..., 0., 0., 0.],\n",
              "       [0., 0., 0., ..., 0., 0., 0.]], dtype=float32)"
            ]
          },
          "metadata": {},
          "execution_count": 33
        }
      ]
    },
    {
      "cell_type": "code",
      "source": [
        "# Normalize inputs within [0, 1]\n",
        "X_train, X_test = X_train / 255.0, X_test / 255.0"
      ],
      "metadata": {
        "id": "oUHsQ8L-Zqye"
      },
      "execution_count": 34,
      "outputs": []
    },
    {
      "cell_type": "code",
      "source": [
        "# One-hot representation for labels\n",
        "y_train = tf.keras.utils.to_categorical(y_train, NB_CLASSES)\n",
        "y_test = tf.keras.utils.to_categorical(y_test, NB_CLASSES)"
      ],
      "metadata": {
        "id": "edJfFppSZ2rg"
      },
      "execution_count": 35,
      "outputs": []
    },
    {
      "cell_type": "code",
      "source": [
        "# Building the model"
      ],
      "metadata": {
        "id": "jQpeVcPpaFaU"
      },
      "execution_count": 36,
      "outputs": []
    },
    {
      "cell_type": "code",
      "source": [
        "model = tf.keras.models.Sequential()"
      ],
      "metadata": {
        "id": "9puukdrOaGzk"
      },
      "execution_count": 37,
      "outputs": []
    },
    {
      "cell_type": "code",
      "source": [
        "model.add(\n",
        "    keras.layers.Dense(\n",
        "        N_HIDDEN,\n",
        "        input_shape=(RESHAPED, ),\n",
        "        name='dense_layer',\n",
        "        activation='relu'\n",
        "    )\n",
        ")\n",
        "model.add(\n",
        "    keras.layers.Dropout(DROPOUT)\n",
        ")\n",
        "model.add(\n",
        "    keras.layers.Dense(\n",
        "        N_HIDDEN,\n",
        "        name='dense_layer_2',\n",
        "        activation='relu'\n",
        "    )\n",
        ")\n",
        "model.add(\n",
        "    keras.layers.Dense(\n",
        "        NB_CLASSES,\n",
        "        name='dense_layer_3',\n",
        "        activation='softmax'\n",
        "    )\n",
        ")"
      ],
      "metadata": {
        "id": "n_V9q44naKn9"
      },
      "execution_count": 38,
      "outputs": []
    },
    {
      "cell_type": "code",
      "source": [
        "model.summary()"
      ],
      "metadata": {
        "colab": {
          "base_uri": "https://localhost:8080/"
        },
        "id": "NgmJuL-Kay5b",
        "outputId": "01651c85-5db0-40d1-d012-c872f043dbbc"
      },
      "execution_count": 39,
      "outputs": [
        {
          "output_type": "stream",
          "name": "stdout",
          "text": [
            "Model: \"sequential_1\"\n",
            "_________________________________________________________________\n",
            " Layer (type)                Output Shape              Param #   \n",
            "=================================================================\n",
            " dense_layer (Dense)         (None, 128)               100480    \n",
            "                                                                 \n",
            " dropout (Dropout)           (None, 128)               0         \n",
            "                                                                 \n",
            " dense_layer_2 (Dense)       (None, 128)               16512     \n",
            "                                                                 \n",
            " dense_layer_3 (Dense)       (None, 10)                1290      \n",
            "                                                                 \n",
            "=================================================================\n",
            "Total params: 118282 (462.04 KB)\n",
            "Trainable params: 118282 (462.04 KB)\n",
            "Non-trainable params: 0 (0.00 Byte)\n",
            "_________________________________________________________________\n"
          ]
        }
      ]
    },
    {
      "cell_type": "code",
      "source": [
        "# Compiling the model\n",
        "model.compile(\n",
        "    optimizer='SGD',\n",
        "    loss='categorical_crossentropy',\n",
        "    metrics=['accuracy']\n",
        ")"
      ],
      "metadata": {
        "id": "VMqJdXnSaz6B"
      },
      "execution_count": 40,
      "outputs": []
    },
    {
      "cell_type": "code",
      "source": [
        "# Train the model\n",
        "model.fit(\n",
        "    X_train, y_train,\n",
        "    batch_size=BATCH_SIZE,\n",
        "    epochs=EPOCHS,\n",
        "    verbose=VERBOSE,\n",
        "    validation_split=VALIDATION_SPLIT\n",
        ")"
      ],
      "metadata": {
        "colab": {
          "base_uri": "https://localhost:8080/"
        },
        "id": "li1NzpFAbDup",
        "outputId": "bc97cc93-980f-40cf-ef5f-d83e29d67f37"
      },
      "execution_count": 42,
      "outputs": [
        {
          "output_type": "stream",
          "name": "stdout",
          "text": [
            "Epoch 1/200\n",
            "375/375 [==============================] - 2s 3ms/step - loss: 1.6172 - accuracy: 0.5228 - val_loss: 0.8284 - val_accuracy: 0.8154\n",
            "Epoch 2/200\n",
            "375/375 [==============================] - 1s 3ms/step - loss: 0.7810 - accuracy: 0.7749 - val_loss: 0.4981 - val_accuracy: 0.8742\n",
            "Epoch 3/200\n",
            "375/375 [==============================] - 2s 4ms/step - loss: 0.5882 - accuracy: 0.8273 - val_loss: 0.4044 - val_accuracy: 0.8907\n",
            "Epoch 4/200\n",
            "375/375 [==============================] - 1s 3ms/step - loss: 0.5028 - accuracy: 0.8534 - val_loss: 0.3575 - val_accuracy: 0.9018\n",
            "Epoch 5/200\n",
            "375/375 [==============================] - 1s 3ms/step - loss: 0.4544 - accuracy: 0.8684 - val_loss: 0.3268 - val_accuracy: 0.9085\n",
            "Epoch 6/200\n",
            "375/375 [==============================] - 1s 3ms/step - loss: 0.4162 - accuracy: 0.8805 - val_loss: 0.3058 - val_accuracy: 0.9125\n",
            "Epoch 7/200\n",
            "375/375 [==============================] - 1s 3ms/step - loss: 0.3917 - accuracy: 0.8863 - val_loss: 0.2891 - val_accuracy: 0.9183\n",
            "Epoch 8/200\n",
            "375/375 [==============================] - 1s 3ms/step - loss: 0.3679 - accuracy: 0.8925 - val_loss: 0.2734 - val_accuracy: 0.9227\n",
            "Epoch 9/200\n",
            "375/375 [==============================] - 1s 3ms/step - loss: 0.3513 - accuracy: 0.8973 - val_loss: 0.2615 - val_accuracy: 0.9261\n",
            "Epoch 10/200\n",
            "375/375 [==============================] - 1s 3ms/step - loss: 0.3352 - accuracy: 0.9030 - val_loss: 0.2507 - val_accuracy: 0.9290\n",
            "Epoch 11/200\n",
            "375/375 [==============================] - 1s 3ms/step - loss: 0.3211 - accuracy: 0.9055 - val_loss: 0.2408 - val_accuracy: 0.9315\n",
            "Epoch 12/200\n",
            "375/375 [==============================] - 1s 3ms/step - loss: 0.3123 - accuracy: 0.9088 - val_loss: 0.2336 - val_accuracy: 0.9327\n",
            "Epoch 13/200\n",
            "375/375 [==============================] - 1s 4ms/step - loss: 0.2979 - accuracy: 0.9134 - val_loss: 0.2248 - val_accuracy: 0.9349\n",
            "Epoch 14/200\n",
            "375/375 [==============================] - 1s 3ms/step - loss: 0.2878 - accuracy: 0.9162 - val_loss: 0.2167 - val_accuracy: 0.9389\n",
            "Epoch 15/200\n",
            "375/375 [==============================] - 1s 3ms/step - loss: 0.2792 - accuracy: 0.9185 - val_loss: 0.2095 - val_accuracy: 0.9401\n",
            "Epoch 16/200\n",
            "375/375 [==============================] - 1s 3ms/step - loss: 0.2695 - accuracy: 0.9233 - val_loss: 0.2030 - val_accuracy: 0.9427\n",
            "Epoch 17/200\n",
            "375/375 [==============================] - 1s 3ms/step - loss: 0.2620 - accuracy: 0.9243 - val_loss: 0.1979 - val_accuracy: 0.9433\n",
            "Epoch 18/200\n",
            "375/375 [==============================] - 1s 3ms/step - loss: 0.2540 - accuracy: 0.9256 - val_loss: 0.1929 - val_accuracy: 0.9444\n",
            "Epoch 19/200\n",
            "375/375 [==============================] - 1s 3ms/step - loss: 0.2477 - accuracy: 0.9291 - val_loss: 0.1879 - val_accuracy: 0.9457\n",
            "Epoch 20/200\n",
            "375/375 [==============================] - 1s 3ms/step - loss: 0.2387 - accuracy: 0.9305 - val_loss: 0.1831 - val_accuracy: 0.9477\n",
            "Epoch 21/200\n",
            "375/375 [==============================] - 1s 3ms/step - loss: 0.2363 - accuracy: 0.9324 - val_loss: 0.1784 - val_accuracy: 0.9490\n",
            "Epoch 22/200\n",
            "375/375 [==============================] - 1s 3ms/step - loss: 0.2308 - accuracy: 0.9322 - val_loss: 0.1752 - val_accuracy: 0.9494\n",
            "Epoch 23/200\n",
            "375/375 [==============================] - 1s 4ms/step - loss: 0.2244 - accuracy: 0.9354 - val_loss: 0.1714 - val_accuracy: 0.9513\n",
            "Epoch 24/200\n",
            "375/375 [==============================] - 1s 3ms/step - loss: 0.2202 - accuracy: 0.9360 - val_loss: 0.1677 - val_accuracy: 0.9523\n",
            "Epoch 25/200\n",
            "375/375 [==============================] - 1s 3ms/step - loss: 0.2152 - accuracy: 0.9373 - val_loss: 0.1644 - val_accuracy: 0.9536\n",
            "Epoch 26/200\n",
            "375/375 [==============================] - 1s 3ms/step - loss: 0.2109 - accuracy: 0.9384 - val_loss: 0.1609 - val_accuracy: 0.9540\n",
            "Epoch 27/200\n",
            "375/375 [==============================] - 1s 3ms/step - loss: 0.2058 - accuracy: 0.9400 - val_loss: 0.1589 - val_accuracy: 0.9542\n",
            "Epoch 28/200\n",
            "375/375 [==============================] - 1s 3ms/step - loss: 0.2023 - accuracy: 0.9411 - val_loss: 0.1560 - val_accuracy: 0.9555\n",
            "Epoch 29/200\n",
            "375/375 [==============================] - 1s 3ms/step - loss: 0.1985 - accuracy: 0.9425 - val_loss: 0.1529 - val_accuracy: 0.9557\n",
            "Epoch 30/200\n",
            "375/375 [==============================] - 1s 3ms/step - loss: 0.1961 - accuracy: 0.9428 - val_loss: 0.1511 - val_accuracy: 0.9557\n",
            "Epoch 31/200\n",
            "375/375 [==============================] - 1s 3ms/step - loss: 0.1928 - accuracy: 0.9438 - val_loss: 0.1478 - val_accuracy: 0.9575\n",
            "Epoch 32/200\n",
            "375/375 [==============================] - 1s 3ms/step - loss: 0.1875 - accuracy: 0.9446 - val_loss: 0.1461 - val_accuracy: 0.9580\n",
            "Epoch 33/200\n",
            "375/375 [==============================] - 2s 4ms/step - loss: 0.1883 - accuracy: 0.9449 - val_loss: 0.1438 - val_accuracy: 0.9592\n",
            "Epoch 34/200\n",
            "375/375 [==============================] - 1s 3ms/step - loss: 0.1831 - accuracy: 0.9467 - val_loss: 0.1423 - val_accuracy: 0.9591\n",
            "Epoch 35/200\n",
            "375/375 [==============================] - 1s 3ms/step - loss: 0.1785 - accuracy: 0.9479 - val_loss: 0.1405 - val_accuracy: 0.9591\n",
            "Epoch 36/200\n",
            "375/375 [==============================] - 1s 3ms/step - loss: 0.1776 - accuracy: 0.9487 - val_loss: 0.1382 - val_accuracy: 0.9605\n",
            "Epoch 37/200\n",
            "375/375 [==============================] - 1s 3ms/step - loss: 0.1751 - accuracy: 0.9481 - val_loss: 0.1361 - val_accuracy: 0.9616\n",
            "Epoch 38/200\n",
            "375/375 [==============================] - 1s 3ms/step - loss: 0.1705 - accuracy: 0.9501 - val_loss: 0.1352 - val_accuracy: 0.9617\n",
            "Epoch 39/200\n",
            "375/375 [==============================] - 1s 3ms/step - loss: 0.1683 - accuracy: 0.9514 - val_loss: 0.1333 - val_accuracy: 0.9617\n",
            "Epoch 40/200\n",
            "375/375 [==============================] - 1s 3ms/step - loss: 0.1672 - accuracy: 0.9508 - val_loss: 0.1316 - val_accuracy: 0.9627\n",
            "Epoch 41/200\n",
            "375/375 [==============================] - 1s 3ms/step - loss: 0.1630 - accuracy: 0.9518 - val_loss: 0.1306 - val_accuracy: 0.9629\n",
            "Epoch 42/200\n",
            "375/375 [==============================] - 1s 3ms/step - loss: 0.1611 - accuracy: 0.9532 - val_loss: 0.1287 - val_accuracy: 0.9635\n",
            "Epoch 43/200\n",
            "375/375 [==============================] - 2s 4ms/step - loss: 0.1598 - accuracy: 0.9539 - val_loss: 0.1284 - val_accuracy: 0.9642\n",
            "Epoch 44/200\n",
            "375/375 [==============================] - 1s 3ms/step - loss: 0.1600 - accuracy: 0.9529 - val_loss: 0.1264 - val_accuracy: 0.9646\n",
            "Epoch 45/200\n",
            "375/375 [==============================] - 1s 3ms/step - loss: 0.1549 - accuracy: 0.9545 - val_loss: 0.1250 - val_accuracy: 0.9640\n",
            "Epoch 46/200\n",
            "375/375 [==============================] - 1s 3ms/step - loss: 0.1538 - accuracy: 0.9557 - val_loss: 0.1236 - val_accuracy: 0.9649\n",
            "Epoch 47/200\n",
            "375/375 [==============================] - 1s 3ms/step - loss: 0.1506 - accuracy: 0.9551 - val_loss: 0.1223 - val_accuracy: 0.9649\n",
            "Epoch 48/200\n",
            "375/375 [==============================] - 1s 3ms/step - loss: 0.1473 - accuracy: 0.9574 - val_loss: 0.1221 - val_accuracy: 0.9652\n",
            "Epoch 49/200\n",
            "375/375 [==============================] - 1s 3ms/step - loss: 0.1475 - accuracy: 0.9564 - val_loss: 0.1202 - val_accuracy: 0.9663\n",
            "Epoch 50/200\n",
            "375/375 [==============================] - 1s 3ms/step - loss: 0.1468 - accuracy: 0.9571 - val_loss: 0.1194 - val_accuracy: 0.9661\n",
            "Epoch 51/200\n",
            "375/375 [==============================] - 1s 3ms/step - loss: 0.1431 - accuracy: 0.9580 - val_loss: 0.1184 - val_accuracy: 0.9659\n",
            "Epoch 52/200\n",
            "375/375 [==============================] - 1s 3ms/step - loss: 0.1431 - accuracy: 0.9572 - val_loss: 0.1168 - val_accuracy: 0.9667\n",
            "Epoch 53/200\n",
            "375/375 [==============================] - 1s 4ms/step - loss: 0.1426 - accuracy: 0.9584 - val_loss: 0.1161 - val_accuracy: 0.9663\n",
            "Epoch 54/200\n",
            "375/375 [==============================] - 1s 3ms/step - loss: 0.1381 - accuracy: 0.9586 - val_loss: 0.1150 - val_accuracy: 0.9668\n",
            "Epoch 55/200\n",
            "375/375 [==============================] - 1s 3ms/step - loss: 0.1368 - accuracy: 0.9597 - val_loss: 0.1144 - val_accuracy: 0.9671\n",
            "Epoch 56/200\n",
            "375/375 [==============================] - 1s 3ms/step - loss: 0.1373 - accuracy: 0.9598 - val_loss: 0.1133 - val_accuracy: 0.9678\n",
            "Epoch 57/200\n",
            "375/375 [==============================] - 1s 3ms/step - loss: 0.1350 - accuracy: 0.9598 - val_loss: 0.1126 - val_accuracy: 0.9677\n",
            "Epoch 58/200\n",
            "375/375 [==============================] - 1s 3ms/step - loss: 0.1332 - accuracy: 0.9608 - val_loss: 0.1117 - val_accuracy: 0.9685\n",
            "Epoch 59/200\n",
            "375/375 [==============================] - 1s 3ms/step - loss: 0.1324 - accuracy: 0.9606 - val_loss: 0.1111 - val_accuracy: 0.9690\n",
            "Epoch 60/200\n",
            "375/375 [==============================] - 1s 3ms/step - loss: 0.1310 - accuracy: 0.9621 - val_loss: 0.1103 - val_accuracy: 0.9688\n",
            "Epoch 61/200\n",
            "375/375 [==============================] - 1s 3ms/step - loss: 0.1289 - accuracy: 0.9620 - val_loss: 0.1098 - val_accuracy: 0.9688\n",
            "Epoch 62/200\n",
            "375/375 [==============================] - 1s 3ms/step - loss: 0.1268 - accuracy: 0.9623 - val_loss: 0.1084 - val_accuracy: 0.9687\n",
            "Epoch 63/200\n",
            "375/375 [==============================] - 1s 4ms/step - loss: 0.1244 - accuracy: 0.9634 - val_loss: 0.1078 - val_accuracy: 0.9694\n",
            "Epoch 64/200\n",
            "375/375 [==============================] - 1s 3ms/step - loss: 0.1262 - accuracy: 0.9628 - val_loss: 0.1075 - val_accuracy: 0.9694\n",
            "Epoch 65/200\n",
            "375/375 [==============================] - 1s 3ms/step - loss: 0.1253 - accuracy: 0.9629 - val_loss: 0.1067 - val_accuracy: 0.9696\n",
            "Epoch 66/200\n",
            "375/375 [==============================] - 1s 3ms/step - loss: 0.1247 - accuracy: 0.9630 - val_loss: 0.1055 - val_accuracy: 0.9698\n",
            "Epoch 67/200\n",
            "375/375 [==============================] - 1s 3ms/step - loss: 0.1216 - accuracy: 0.9645 - val_loss: 0.1056 - val_accuracy: 0.9704\n",
            "Epoch 68/200\n",
            "375/375 [==============================] - 1s 3ms/step - loss: 0.1198 - accuracy: 0.9645 - val_loss: 0.1043 - val_accuracy: 0.9702\n",
            "Epoch 69/200\n",
            "375/375 [==============================] - 1s 3ms/step - loss: 0.1209 - accuracy: 0.9644 - val_loss: 0.1042 - val_accuracy: 0.9701\n",
            "Epoch 70/200\n",
            "375/375 [==============================] - 1s 3ms/step - loss: 0.1173 - accuracy: 0.9656 - val_loss: 0.1038 - val_accuracy: 0.9704\n",
            "Epoch 71/200\n",
            "375/375 [==============================] - 1s 3ms/step - loss: 0.1180 - accuracy: 0.9653 - val_loss: 0.1036 - val_accuracy: 0.9707\n",
            "Epoch 72/200\n",
            "375/375 [==============================] - 1s 3ms/step - loss: 0.1152 - accuracy: 0.9663 - val_loss: 0.1025 - val_accuracy: 0.9709\n",
            "Epoch 73/200\n",
            "375/375 [==============================] - 1s 4ms/step - loss: 0.1149 - accuracy: 0.9658 - val_loss: 0.1017 - val_accuracy: 0.9712\n",
            "Epoch 74/200\n",
            "375/375 [==============================] - 1s 3ms/step - loss: 0.1148 - accuracy: 0.9651 - val_loss: 0.1015 - val_accuracy: 0.9712\n",
            "Epoch 75/200\n",
            "375/375 [==============================] - 1s 3ms/step - loss: 0.1123 - accuracy: 0.9672 - val_loss: 0.1006 - val_accuracy: 0.9715\n",
            "Epoch 76/200\n",
            "375/375 [==============================] - 1s 3ms/step - loss: 0.1127 - accuracy: 0.9673 - val_loss: 0.1008 - val_accuracy: 0.9712\n",
            "Epoch 77/200\n",
            "375/375 [==============================] - 1s 3ms/step - loss: 0.1108 - accuracy: 0.9670 - val_loss: 0.0998 - val_accuracy: 0.9719\n",
            "Epoch 78/200\n",
            "375/375 [==============================] - 1s 3ms/step - loss: 0.1114 - accuracy: 0.9664 - val_loss: 0.0993 - val_accuracy: 0.9718\n",
            "Epoch 79/200\n",
            "375/375 [==============================] - 1s 3ms/step - loss: 0.1089 - accuracy: 0.9685 - val_loss: 0.0991 - val_accuracy: 0.9716\n",
            "Epoch 80/200\n",
            "375/375 [==============================] - 1s 3ms/step - loss: 0.1086 - accuracy: 0.9678 - val_loss: 0.0982 - val_accuracy: 0.9724\n",
            "Epoch 81/200\n",
            "375/375 [==============================] - 1s 3ms/step - loss: 0.1081 - accuracy: 0.9676 - val_loss: 0.0981 - val_accuracy: 0.9723\n",
            "Epoch 82/200\n",
            "375/375 [==============================] - 1s 3ms/step - loss: 0.1056 - accuracy: 0.9695 - val_loss: 0.0974 - val_accuracy: 0.9725\n",
            "Epoch 83/200\n",
            "375/375 [==============================] - 1s 4ms/step - loss: 0.1088 - accuracy: 0.9682 - val_loss: 0.0971 - val_accuracy: 0.9728\n",
            "Epoch 84/200\n",
            "375/375 [==============================] - 1s 3ms/step - loss: 0.1063 - accuracy: 0.9683 - val_loss: 0.0966 - val_accuracy: 0.9728\n",
            "Epoch 85/200\n",
            "375/375 [==============================] - 1s 3ms/step - loss: 0.1055 - accuracy: 0.9676 - val_loss: 0.0965 - val_accuracy: 0.9731\n",
            "Epoch 86/200\n",
            "375/375 [==============================] - 1s 3ms/step - loss: 0.1038 - accuracy: 0.9693 - val_loss: 0.0961 - val_accuracy: 0.9732\n",
            "Epoch 87/200\n",
            "375/375 [==============================] - 1s 3ms/step - loss: 0.1025 - accuracy: 0.9699 - val_loss: 0.0953 - val_accuracy: 0.9731\n",
            "Epoch 88/200\n",
            "375/375 [==============================] - 1s 3ms/step - loss: 0.1025 - accuracy: 0.9700 - val_loss: 0.0955 - val_accuracy: 0.9735\n",
            "Epoch 89/200\n",
            "375/375 [==============================] - 1s 3ms/step - loss: 0.1008 - accuracy: 0.9706 - val_loss: 0.0945 - val_accuracy: 0.9738\n",
            "Epoch 90/200\n",
            "375/375 [==============================] - 1s 3ms/step - loss: 0.1020 - accuracy: 0.9705 - val_loss: 0.0942 - val_accuracy: 0.9733\n",
            "Epoch 91/200\n",
            "375/375 [==============================] - 1s 3ms/step - loss: 0.0987 - accuracy: 0.9709 - val_loss: 0.0938 - val_accuracy: 0.9738\n",
            "Epoch 92/200\n",
            "375/375 [==============================] - 1s 3ms/step - loss: 0.0982 - accuracy: 0.9710 - val_loss: 0.0934 - val_accuracy: 0.9736\n",
            "Epoch 93/200\n",
            "375/375 [==============================] - 1s 4ms/step - loss: 0.0992 - accuracy: 0.9701 - val_loss: 0.0934 - val_accuracy: 0.9737\n",
            "Epoch 94/200\n",
            "375/375 [==============================] - 1s 3ms/step - loss: 0.0978 - accuracy: 0.9714 - val_loss: 0.0925 - val_accuracy: 0.9740\n",
            "Epoch 95/200\n",
            "375/375 [==============================] - 1s 3ms/step - loss: 0.0956 - accuracy: 0.9709 - val_loss: 0.0921 - val_accuracy: 0.9739\n",
            "Epoch 96/200\n",
            "375/375 [==============================] - 1s 3ms/step - loss: 0.0966 - accuracy: 0.9708 - val_loss: 0.0917 - val_accuracy: 0.9745\n",
            "Epoch 97/200\n",
            "375/375 [==============================] - 1s 3ms/step - loss: 0.0937 - accuracy: 0.9723 - val_loss: 0.0918 - val_accuracy: 0.9744\n",
            "Epoch 98/200\n",
            "375/375 [==============================] - 1s 3ms/step - loss: 0.0937 - accuracy: 0.9715 - val_loss: 0.0908 - val_accuracy: 0.9746\n",
            "Epoch 99/200\n",
            "375/375 [==============================] - 1s 3ms/step - loss: 0.0945 - accuracy: 0.9715 - val_loss: 0.0908 - val_accuracy: 0.9744\n",
            "Epoch 100/200\n",
            "375/375 [==============================] - 1s 3ms/step - loss: 0.0929 - accuracy: 0.9723 - val_loss: 0.0903 - val_accuracy: 0.9746\n",
            "Epoch 101/200\n",
            "375/375 [==============================] - 1s 3ms/step - loss: 0.0928 - accuracy: 0.9726 - val_loss: 0.0904 - val_accuracy: 0.9749\n",
            "Epoch 102/200\n",
            "375/375 [==============================] - 1s 3ms/step - loss: 0.0913 - accuracy: 0.9719 - val_loss: 0.0900 - val_accuracy: 0.9744\n",
            "Epoch 103/200\n",
            "375/375 [==============================] - 1s 4ms/step - loss: 0.0916 - accuracy: 0.9728 - val_loss: 0.0901 - val_accuracy: 0.9742\n",
            "Epoch 104/200\n",
            "375/375 [==============================] - 1s 3ms/step - loss: 0.0911 - accuracy: 0.9726 - val_loss: 0.0897 - val_accuracy: 0.9745\n",
            "Epoch 105/200\n",
            "375/375 [==============================] - 1s 3ms/step - loss: 0.0895 - accuracy: 0.9733 - val_loss: 0.0894 - val_accuracy: 0.9751\n",
            "Epoch 106/200\n",
            "375/375 [==============================] - 1s 3ms/step - loss: 0.0896 - accuracy: 0.9726 - val_loss: 0.0893 - val_accuracy: 0.9750\n",
            "Epoch 107/200\n",
            "375/375 [==============================] - 1s 3ms/step - loss: 0.0892 - accuracy: 0.9737 - val_loss: 0.0890 - val_accuracy: 0.9752\n",
            "Epoch 108/200\n",
            "375/375 [==============================] - 1s 3ms/step - loss: 0.0890 - accuracy: 0.9739 - val_loss: 0.0890 - val_accuracy: 0.9747\n",
            "Epoch 109/200\n",
            "375/375 [==============================] - 1s 3ms/step - loss: 0.0875 - accuracy: 0.9736 - val_loss: 0.0886 - val_accuracy: 0.9754\n",
            "Epoch 110/200\n",
            "375/375 [==============================] - 1s 3ms/step - loss: 0.0879 - accuracy: 0.9740 - val_loss: 0.0892 - val_accuracy: 0.9754\n",
            "Epoch 111/200\n",
            "375/375 [==============================] - 1s 3ms/step - loss: 0.0850 - accuracy: 0.9748 - val_loss: 0.0878 - val_accuracy: 0.9753\n",
            "Epoch 112/200\n",
            "375/375 [==============================] - 1s 3ms/step - loss: 0.0848 - accuracy: 0.9746 - val_loss: 0.0882 - val_accuracy: 0.9761\n",
            "Epoch 113/200\n",
            "375/375 [==============================] - 2s 4ms/step - loss: 0.0842 - accuracy: 0.9744 - val_loss: 0.0875 - val_accuracy: 0.9750\n",
            "Epoch 114/200\n",
            "375/375 [==============================] - 1s 3ms/step - loss: 0.0842 - accuracy: 0.9746 - val_loss: 0.0882 - val_accuracy: 0.9758\n",
            "Epoch 115/200\n",
            "375/375 [==============================] - 1s 3ms/step - loss: 0.0825 - accuracy: 0.9750 - val_loss: 0.0874 - val_accuracy: 0.9761\n",
            "Epoch 116/200\n",
            "375/375 [==============================] - 1s 3ms/step - loss: 0.0853 - accuracy: 0.9743 - val_loss: 0.0871 - val_accuracy: 0.9758\n",
            "Epoch 117/200\n",
            "375/375 [==============================] - 1s 3ms/step - loss: 0.0826 - accuracy: 0.9757 - val_loss: 0.0868 - val_accuracy: 0.9754\n",
            "Epoch 118/200\n",
            "375/375 [==============================] - 1s 3ms/step - loss: 0.0823 - accuracy: 0.9756 - val_loss: 0.0862 - val_accuracy: 0.9761\n",
            "Epoch 119/200\n",
            "375/375 [==============================] - 1s 3ms/step - loss: 0.0824 - accuracy: 0.9754 - val_loss: 0.0866 - val_accuracy: 0.9757\n",
            "Epoch 120/200\n",
            "375/375 [==============================] - 1s 3ms/step - loss: 0.0804 - accuracy: 0.9757 - val_loss: 0.0861 - val_accuracy: 0.9760\n",
            "Epoch 121/200\n",
            "375/375 [==============================] - 1s 3ms/step - loss: 0.0813 - accuracy: 0.9758 - val_loss: 0.0858 - val_accuracy: 0.9755\n",
            "Epoch 122/200\n",
            "375/375 [==============================] - 1s 3ms/step - loss: 0.0797 - accuracy: 0.9761 - val_loss: 0.0856 - val_accuracy: 0.9758\n",
            "Epoch 123/200\n",
            "375/375 [==============================] - 1s 4ms/step - loss: 0.0807 - accuracy: 0.9757 - val_loss: 0.0855 - val_accuracy: 0.9758\n",
            "Epoch 124/200\n",
            "375/375 [==============================] - 1s 3ms/step - loss: 0.0797 - accuracy: 0.9764 - val_loss: 0.0851 - val_accuracy: 0.9754\n",
            "Epoch 125/200\n",
            "375/375 [==============================] - 1s 3ms/step - loss: 0.0789 - accuracy: 0.9765 - val_loss: 0.0853 - val_accuracy: 0.9753\n",
            "Epoch 126/200\n",
            "375/375 [==============================] - 1s 3ms/step - loss: 0.0789 - accuracy: 0.9760 - val_loss: 0.0850 - val_accuracy: 0.9762\n",
            "Epoch 127/200\n",
            "375/375 [==============================] - 1s 3ms/step - loss: 0.0768 - accuracy: 0.9773 - val_loss: 0.0845 - val_accuracy: 0.9762\n",
            "Epoch 128/200\n",
            "375/375 [==============================] - 1s 3ms/step - loss: 0.0780 - accuracy: 0.9764 - val_loss: 0.0841 - val_accuracy: 0.9759\n",
            "Epoch 129/200\n",
            "375/375 [==============================] - 1s 3ms/step - loss: 0.0757 - accuracy: 0.9768 - val_loss: 0.0843 - val_accuracy: 0.9758\n",
            "Epoch 130/200\n",
            "375/375 [==============================] - 1s 3ms/step - loss: 0.0751 - accuracy: 0.9775 - val_loss: 0.0843 - val_accuracy: 0.9758\n",
            "Epoch 131/200\n",
            "375/375 [==============================] - 1s 3ms/step - loss: 0.0774 - accuracy: 0.9760 - val_loss: 0.0840 - val_accuracy: 0.9763\n",
            "Epoch 132/200\n",
            "375/375 [==============================] - 1s 3ms/step - loss: 0.0752 - accuracy: 0.9770 - val_loss: 0.0835 - val_accuracy: 0.9762\n",
            "Epoch 133/200\n",
            "375/375 [==============================] - 1s 3ms/step - loss: 0.0746 - accuracy: 0.9770 - val_loss: 0.0839 - val_accuracy: 0.9760\n",
            "Epoch 134/200\n",
            "375/375 [==============================] - 1s 3ms/step - loss: 0.0748 - accuracy: 0.9774 - val_loss: 0.0834 - val_accuracy: 0.9765\n",
            "Epoch 135/200\n",
            "375/375 [==============================] - 1s 3ms/step - loss: 0.0752 - accuracy: 0.9774 - val_loss: 0.0837 - val_accuracy: 0.9761\n",
            "Epoch 136/200\n",
            "375/375 [==============================] - 1s 3ms/step - loss: 0.0715 - accuracy: 0.9783 - val_loss: 0.0835 - val_accuracy: 0.9758\n",
            "Epoch 137/200\n",
            "375/375 [==============================] - 1s 3ms/step - loss: 0.0735 - accuracy: 0.9772 - val_loss: 0.0834 - val_accuracy: 0.9762\n",
            "Epoch 138/200\n",
            "375/375 [==============================] - 1s 3ms/step - loss: 0.0730 - accuracy: 0.9775 - val_loss: 0.0829 - val_accuracy: 0.9762\n",
            "Epoch 139/200\n",
            "375/375 [==============================] - 1s 3ms/step - loss: 0.0717 - accuracy: 0.9785 - val_loss: 0.0829 - val_accuracy: 0.9762\n",
            "Epoch 140/200\n",
            "375/375 [==============================] - 1s 3ms/step - loss: 0.0744 - accuracy: 0.9771 - val_loss: 0.0827 - val_accuracy: 0.9758\n",
            "Epoch 141/200\n",
            "375/375 [==============================] - 1s 3ms/step - loss: 0.0721 - accuracy: 0.9784 - val_loss: 0.0827 - val_accuracy: 0.9766\n",
            "Epoch 142/200\n",
            "375/375 [==============================] - 1s 3ms/step - loss: 0.0711 - accuracy: 0.9780 - val_loss: 0.0825 - val_accuracy: 0.9758\n",
            "Epoch 143/200\n",
            "375/375 [==============================] - 1s 4ms/step - loss: 0.0721 - accuracy: 0.9778 - val_loss: 0.0821 - val_accuracy: 0.9760\n",
            "Epoch 144/200\n",
            "375/375 [==============================] - 1s 3ms/step - loss: 0.0715 - accuracy: 0.9786 - val_loss: 0.0820 - val_accuracy: 0.9766\n",
            "Epoch 145/200\n",
            "375/375 [==============================] - 1s 3ms/step - loss: 0.0710 - accuracy: 0.9781 - val_loss: 0.0827 - val_accuracy: 0.9767\n",
            "Epoch 146/200\n",
            "375/375 [==============================] - 1s 3ms/step - loss: 0.0710 - accuracy: 0.9784 - val_loss: 0.0818 - val_accuracy: 0.9767\n",
            "Epoch 147/200\n",
            "375/375 [==============================] - 1s 3ms/step - loss: 0.0685 - accuracy: 0.9790 - val_loss: 0.0812 - val_accuracy: 0.9770\n",
            "Epoch 148/200\n",
            "375/375 [==============================] - 1s 3ms/step - loss: 0.0694 - accuracy: 0.9791 - val_loss: 0.0809 - val_accuracy: 0.9772\n",
            "Epoch 149/200\n",
            "375/375 [==============================] - 1s 3ms/step - loss: 0.0696 - accuracy: 0.9786 - val_loss: 0.0816 - val_accuracy: 0.9772\n",
            "Epoch 150/200\n",
            "375/375 [==============================] - 1s 3ms/step - loss: 0.0665 - accuracy: 0.9797 - val_loss: 0.0809 - val_accuracy: 0.9772\n",
            "Epoch 151/200\n",
            "375/375 [==============================] - 1s 3ms/step - loss: 0.0686 - accuracy: 0.9787 - val_loss: 0.0811 - val_accuracy: 0.9768\n",
            "Epoch 152/200\n",
            "375/375 [==============================] - 1s 3ms/step - loss: 0.0690 - accuracy: 0.9787 - val_loss: 0.0811 - val_accuracy: 0.9772\n",
            "Epoch 153/200\n",
            "375/375 [==============================] - 1s 4ms/step - loss: 0.0668 - accuracy: 0.9790 - val_loss: 0.0805 - val_accuracy: 0.9770\n",
            "Epoch 154/200\n",
            "375/375 [==============================] - 1s 3ms/step - loss: 0.0679 - accuracy: 0.9796 - val_loss: 0.0806 - val_accuracy: 0.9764\n",
            "Epoch 155/200\n",
            "375/375 [==============================] - 1s 3ms/step - loss: 0.0667 - accuracy: 0.9793 - val_loss: 0.0808 - val_accuracy: 0.9770\n",
            "Epoch 156/200\n",
            "375/375 [==============================] - 1s 3ms/step - loss: 0.0662 - accuracy: 0.9805 - val_loss: 0.0803 - val_accuracy: 0.9772\n",
            "Epoch 157/200\n",
            "375/375 [==============================] - 1s 3ms/step - loss: 0.0673 - accuracy: 0.9792 - val_loss: 0.0801 - val_accuracy: 0.9767\n",
            "Epoch 158/200\n",
            "375/375 [==============================] - 1s 3ms/step - loss: 0.0672 - accuracy: 0.9794 - val_loss: 0.0806 - val_accuracy: 0.9766\n",
            "Epoch 159/200\n",
            "375/375 [==============================] - 1s 3ms/step - loss: 0.0662 - accuracy: 0.9797 - val_loss: 0.0799 - val_accuracy: 0.9770\n",
            "Epoch 160/200\n",
            "375/375 [==============================] - 1s 3ms/step - loss: 0.0653 - accuracy: 0.9800 - val_loss: 0.0800 - val_accuracy: 0.9770\n",
            "Epoch 161/200\n",
            "375/375 [==============================] - 1s 3ms/step - loss: 0.0646 - accuracy: 0.9802 - val_loss: 0.0802 - val_accuracy: 0.9768\n",
            "Epoch 162/200\n",
            "375/375 [==============================] - 1s 3ms/step - loss: 0.0653 - accuracy: 0.9798 - val_loss: 0.0797 - val_accuracy: 0.9772\n",
            "Epoch 163/200\n",
            "375/375 [==============================] - 1s 4ms/step - loss: 0.0622 - accuracy: 0.9807 - val_loss: 0.0799 - val_accuracy: 0.9774\n",
            "Epoch 164/200\n",
            "375/375 [==============================] - 1s 3ms/step - loss: 0.0625 - accuracy: 0.9806 - val_loss: 0.0799 - val_accuracy: 0.9772\n",
            "Epoch 165/200\n",
            "375/375 [==============================] - 1s 3ms/step - loss: 0.0657 - accuracy: 0.9793 - val_loss: 0.0795 - val_accuracy: 0.9772\n",
            "Epoch 166/200\n",
            "375/375 [==============================] - 1s 3ms/step - loss: 0.0631 - accuracy: 0.9804 - val_loss: 0.0796 - val_accuracy: 0.9774\n",
            "Epoch 167/200\n",
            "375/375 [==============================] - 1s 3ms/step - loss: 0.0639 - accuracy: 0.9799 - val_loss: 0.0797 - val_accuracy: 0.9772\n",
            "Epoch 168/200\n",
            "375/375 [==============================] - 1s 3ms/step - loss: 0.0622 - accuracy: 0.9807 - val_loss: 0.0798 - val_accuracy: 0.9772\n",
            "Epoch 169/200\n",
            "375/375 [==============================] - 1s 3ms/step - loss: 0.0624 - accuracy: 0.9805 - val_loss: 0.0794 - val_accuracy: 0.9772\n",
            "Epoch 170/200\n",
            "375/375 [==============================] - 1s 3ms/step - loss: 0.0614 - accuracy: 0.9812 - val_loss: 0.0788 - val_accuracy: 0.9772\n",
            "Epoch 171/200\n",
            "375/375 [==============================] - 1s 3ms/step - loss: 0.0605 - accuracy: 0.9813 - val_loss: 0.0791 - val_accuracy: 0.9777\n",
            "Epoch 172/200\n",
            "375/375 [==============================] - 1s 3ms/step - loss: 0.0616 - accuracy: 0.9808 - val_loss: 0.0792 - val_accuracy: 0.9774\n",
            "Epoch 173/200\n",
            "375/375 [==============================] - 1s 4ms/step - loss: 0.0613 - accuracy: 0.9811 - val_loss: 0.0791 - val_accuracy: 0.9770\n",
            "Epoch 174/200\n",
            "375/375 [==============================] - 1s 3ms/step - loss: 0.0616 - accuracy: 0.9809 - val_loss: 0.0790 - val_accuracy: 0.9768\n",
            "Epoch 175/200\n",
            "375/375 [==============================] - 1s 3ms/step - loss: 0.0594 - accuracy: 0.9821 - val_loss: 0.0786 - val_accuracy: 0.9769\n",
            "Epoch 176/200\n",
            "375/375 [==============================] - 1s 3ms/step - loss: 0.0594 - accuracy: 0.9820 - val_loss: 0.0787 - val_accuracy: 0.9776\n",
            "Epoch 177/200\n",
            "375/375 [==============================] - 1s 3ms/step - loss: 0.0597 - accuracy: 0.9815 - val_loss: 0.0784 - val_accuracy: 0.9775\n",
            "Epoch 178/200\n",
            "375/375 [==============================] - 1s 3ms/step - loss: 0.0599 - accuracy: 0.9814 - val_loss: 0.0779 - val_accuracy: 0.9774\n",
            "Epoch 179/200\n",
            "375/375 [==============================] - 1s 3ms/step - loss: 0.0603 - accuracy: 0.9814 - val_loss: 0.0778 - val_accuracy: 0.9775\n",
            "Epoch 180/200\n",
            "375/375 [==============================] - 1s 3ms/step - loss: 0.0591 - accuracy: 0.9813 - val_loss: 0.0780 - val_accuracy: 0.9778\n",
            "Epoch 181/200\n",
            "375/375 [==============================] - 1s 3ms/step - loss: 0.0572 - accuracy: 0.9828 - val_loss: 0.0778 - val_accuracy: 0.9776\n",
            "Epoch 182/200\n",
            "375/375 [==============================] - 1s 3ms/step - loss: 0.0586 - accuracy: 0.9820 - val_loss: 0.0788 - val_accuracy: 0.9772\n",
            "Epoch 183/200\n",
            "375/375 [==============================] - 2s 4ms/step - loss: 0.0570 - accuracy: 0.9822 - val_loss: 0.0778 - val_accuracy: 0.9775\n",
            "Epoch 184/200\n",
            "375/375 [==============================] - 1s 3ms/step - loss: 0.0570 - accuracy: 0.9825 - val_loss: 0.0777 - val_accuracy: 0.9778\n",
            "Epoch 185/200\n",
            "375/375 [==============================] - 1s 3ms/step - loss: 0.0598 - accuracy: 0.9814 - val_loss: 0.0779 - val_accuracy: 0.9773\n",
            "Epoch 186/200\n",
            "375/375 [==============================] - 1s 3ms/step - loss: 0.0570 - accuracy: 0.9819 - val_loss: 0.0780 - val_accuracy: 0.9777\n",
            "Epoch 187/200\n",
            "375/375 [==============================] - 1s 3ms/step - loss: 0.0579 - accuracy: 0.9824 - val_loss: 0.0778 - val_accuracy: 0.9778\n",
            "Epoch 188/200\n",
            "375/375 [==============================] - 1s 3ms/step - loss: 0.0575 - accuracy: 0.9824 - val_loss: 0.0775 - val_accuracy: 0.9773\n",
            "Epoch 189/200\n",
            "375/375 [==============================] - 1s 3ms/step - loss: 0.0571 - accuracy: 0.9825 - val_loss: 0.0773 - val_accuracy: 0.9778\n",
            "Epoch 190/200\n",
            "375/375 [==============================] - 1s 3ms/step - loss: 0.0574 - accuracy: 0.9822 - val_loss: 0.0773 - val_accuracy: 0.9777\n",
            "Epoch 191/200\n",
            "375/375 [==============================] - 1s 3ms/step - loss: 0.0571 - accuracy: 0.9825 - val_loss: 0.0774 - val_accuracy: 0.9782\n",
            "Epoch 192/200\n",
            "375/375 [==============================] - 1s 3ms/step - loss: 0.0539 - accuracy: 0.9835 - val_loss: 0.0772 - val_accuracy: 0.9775\n",
            "Epoch 193/200\n",
            "375/375 [==============================] - 1s 4ms/step - loss: 0.0551 - accuracy: 0.9829 - val_loss: 0.0768 - val_accuracy: 0.9779\n",
            "Epoch 194/200\n",
            "375/375 [==============================] - 1s 3ms/step - loss: 0.0544 - accuracy: 0.9837 - val_loss: 0.0773 - val_accuracy: 0.9776\n",
            "Epoch 195/200\n",
            "375/375 [==============================] - 1s 3ms/step - loss: 0.0564 - accuracy: 0.9825 - val_loss: 0.0768 - val_accuracy: 0.9780\n",
            "Epoch 196/200\n",
            "375/375 [==============================] - 1s 3ms/step - loss: 0.0552 - accuracy: 0.9822 - val_loss: 0.0770 - val_accuracy: 0.9784\n",
            "Epoch 197/200\n",
            "375/375 [==============================] - 1s 3ms/step - loss: 0.0557 - accuracy: 0.9822 - val_loss: 0.0773 - val_accuracy: 0.9785\n",
            "Epoch 198/200\n",
            "375/375 [==============================] - 1s 3ms/step - loss: 0.0556 - accuracy: 0.9828 - val_loss: 0.0767 - val_accuracy: 0.9784\n",
            "Epoch 199/200\n",
            "375/375 [==============================] - 1s 3ms/step - loss: 0.0536 - accuracy: 0.9831 - val_loss: 0.0768 - val_accuracy: 0.9780\n",
            "Epoch 200/200\n",
            "375/375 [==============================] - 1s 3ms/step - loss: 0.0532 - accuracy: 0.9834 - val_loss: 0.0763 - val_accuracy: 0.9781\n"
          ]
        },
        {
          "output_type": "execute_result",
          "data": {
            "text/plain": [
              "<keras.src.callbacks.History at 0x7b8632a42a10>"
            ]
          },
          "metadata": {},
          "execution_count": 42
        }
      ]
    },
    {
      "cell_type": "code",
      "source": [
        "# Evaluate the model\n",
        "test_loss, test_acc = model.evaluate(X_test, y_test)\n",
        "test_acc"
      ],
      "metadata": {
        "colab": {
          "base_uri": "https://localhost:8080/"
        },
        "id": "7Ntx6ku_bS-n",
        "outputId": "7b32a931-597b-463c-c642-9152866cfaac"
      },
      "execution_count": 43,
      "outputs": [
        {
          "output_type": "stream",
          "name": "stdout",
          "text": [
            "313/313 [==============================] - 0s 1ms/step - loss: 0.0723 - accuracy: 0.9779\n"
          ]
        },
        {
          "output_type": "execute_result",
          "data": {
            "text/plain": [
              "0.9779000282287598"
            ]
          },
          "metadata": {},
          "execution_count": 43
        }
      ]
    },
    {
      "cell_type": "code",
      "source": [],
      "metadata": {
        "id": "6JQqjEfmcf54"
      },
      "execution_count": null,
      "outputs": []
    }
  ]
}